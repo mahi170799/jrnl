{
  "nbformat": 4,
  "nbformat_minor": 0,
  "metadata": {
    "colab": {
      "name": "MatrixMultiplication.ipynb",
      "provenance": []
    },
    "kernelspec": {
      "name": "python3",
      "display_name": "Python 3"
    },
    "language_info": {
      "name": "python"
    }
  },
  "cells": [
    {
      "cell_type": "code",
      "source": [
        "#Performing matrix multiplication and finding Eigenvectors and Eigenvalues using Tensorflow"
      ],
      "metadata": {
        "id": "Df1gMoqUcU_X"
      },
      "execution_count": null,
      "outputs": []
    },
    {
      "cell_type": "code",
      "source": [
        "import tensorflow as tf"
      ],
      "metadata": {
        "id": "CHZOrmn8k35f"
      },
      "execution_count": null,
      "outputs": []
    },
    {
      "cell_type": "code",
      "source": [
        "x=tf.constant([1,2,3,4,5,6],shape=[2,3])\n",
        "x"
      ],
      "metadata": {
        "colab": {
          "base_uri": "https://localhost:8080/"
        },
        "id": "p0nv1wwEk_6r",
        "outputId": "efbaf30e-a501-42b9-b68a-def7b7f9bd6a"
      },
      "execution_count": null,
      "outputs": [
        {
          "output_type": "execute_result",
          "data": {
            "text/plain": [
              "<tf.Tensor: shape=(2, 3), dtype=int32, numpy=\n",
              "array([[1, 2, 3],\n",
              "       [4, 5, 6]], dtype=int32)>"
            ]
          },
          "metadata": {},
          "execution_count": 3
        }
      ]
    },
    {
      "cell_type": "code",
      "source": [
        "y=tf.constant([7,8,9,10,11,12],shape=[3,2])\n",
        "y"
      ],
      "metadata": {
        "colab": {
          "base_uri": "https://localhost:8080/"
        },
        "id": "lDPFscIZlicS",
        "outputId": "33f0b412-30f7-49ab-b442-9294909efc0f"
      },
      "execution_count": null,
      "outputs": [
        {
          "output_type": "execute_result",
          "data": {
            "text/plain": [
              "<tf.Tensor: shape=(3, 2), dtype=int32, numpy=\n",
              "array([[ 7,  8],\n",
              "       [ 9, 10],\n",
              "       [11, 12]], dtype=int32)>"
            ]
          },
          "metadata": {},
          "execution_count": 4
        }
      ]
    },
    {
      "cell_type": "code",
      "source": [
        "z=tf.constant([1,2,3,4,5,6,7,8,9,10,11,12,13,14,15,16],shape=[4,4])\n",
        "z"
      ],
      "metadata": {
        "colab": {
          "base_uri": "https://localhost:8080/"
        },
        "id": "kpO9xW7HlubW",
        "outputId": "b78436de-9d27-403c-9a5f-4d045c66e6e5"
      },
      "execution_count": null,
      "outputs": [
        {
          "output_type": "execute_result",
          "data": {
            "text/plain": [
              "<tf.Tensor: shape=(4, 4), dtype=int32, numpy=\n",
              "array([[ 1,  2,  3,  4],\n",
              "       [ 5,  6,  7,  8],\n",
              "       [ 9, 10, 11, 12],\n",
              "       [13, 14, 15, 16]], dtype=int32)>"
            ]
          },
          "metadata": {},
          "execution_count": 5
        }
      ]
    },
    {
      "cell_type": "code",
      "source": [
        ""
      ],
      "metadata": {
        "id": "50Hi2DcmmGou"
      },
      "execution_count": null,
      "outputs": []
    },
    {
      "cell_type": "markdown",
      "source": [
        "Performing Matrix Multiplication"
      ],
      "metadata": {
        "id": "o8JbH1ShmJJU"
      }
    },
    {
      "cell_type": "code",
      "source": [
        "mul=tf.matmul(x,y)\n",
        "mul"
      ],
      "metadata": {
        "colab": {
          "base_uri": "https://localhost:8080/"
        },
        "id": "ECtvLdpjmOCO",
        "outputId": "0298b0b5-0c93-4b44-c2df-f3ecb603c3ab"
      },
      "execution_count": null,
      "outputs": [
        {
          "output_type": "execute_result",
          "data": {
            "text/plain": [
              "<tf.Tensor: shape=(2, 2), dtype=int32, numpy=\n",
              "array([[ 58,  64],\n",
              "       [139, 154]], dtype=int32)>"
            ]
          },
          "metadata": {},
          "execution_count": 6
        }
      ]
    },
    {
      "cell_type": "code",
      "source": [
        "zsq=tf.matmul(z,z)\n",
        "zsq"
      ],
      "metadata": {
        "colab": {
          "base_uri": "https://localhost:8080/"
        },
        "id": "xfcVeqkBwHoM",
        "outputId": "8417b71a-dcbb-43e0-a04f-ba066ee8dfac"
      },
      "execution_count": null,
      "outputs": [
        {
          "output_type": "execute_result",
          "data": {
            "text/plain": [
              "<tf.Tensor: shape=(4, 4), dtype=int32, numpy=\n",
              "array([[ 90, 100, 110, 120],\n",
              "       [202, 228, 254, 280],\n",
              "       [314, 356, 398, 440],\n",
              "       [426, 484, 542, 600]], dtype=int32)>"
            ]
          },
          "metadata": {},
          "execution_count": 7
        }
      ]
    },
    {
      "cell_type": "code",
      "source": [
        "r=tf.random.uniform([2,2],minval=3,maxval=10,dtype=tf.float32)\n",
        "r"
      ],
      "metadata": {
        "colab": {
          "base_uri": "https://localhost:8080/"
        },
        "id": "9nR3vSqRnHcE",
        "outputId": "1f030e59-57da-4cc9-cda8-ca8c5c5dce0e"
      },
      "execution_count": null,
      "outputs": [
        {
          "output_type": "execute_result",
          "data": {
            "text/plain": [
              "<tf.Tensor: shape=(2, 2), dtype=float32, numpy=\n",
              "array([[3.0198102, 3.514727 ],\n",
              "       [7.893105 , 8.342789 ]], dtype=float32)>"
            ]
          },
          "metadata": {},
          "execution_count": 8
        }
      ]
    },
    {
      "cell_type": "code",
      "source": [
        "s=tf.random.uniform([4,4],minval=1,maxval=100,dtype=tf.float32)\n",
        "s"
      ],
      "metadata": {
        "colab": {
          "base_uri": "https://localhost:8080/"
        },
        "id": "sQOTReLFnv2S",
        "outputId": "0b95851a-a0cf-4540-e811-3b71395aa214"
      },
      "execution_count": null,
      "outputs": [
        {
          "output_type": "execute_result",
          "data": {
            "text/plain": [
              "<tf.Tensor: shape=(4, 4), dtype=float32, numpy=\n",
              "array([[45.44799 , 93.939   , 12.33875 , 68.06019 ],\n",
              "       [62.40718 , 85.310745,  2.23302 , 90.32219 ],\n",
              "       [73.19498 , 23.555021, 54.419468, 97.24091 ],\n",
              "       [87.468094, 46.090855, 38.799763, 52.146057]], dtype=float32)>"
            ]
          },
          "metadata": {},
          "execution_count": 9
        }
      ]
    },
    {
      "cell_type": "code",
      "source": [
        "eigen_values_r,eigen_vector_r=tf.linalg.eigh(r)"
      ],
      "metadata": {
        "id": "Vim5peZ4myOx"
      },
      "execution_count": null,
      "outputs": []
    },
    {
      "cell_type": "code",
      "source": [
        "print(\"Eigenvector:\\n\",eigen_vector_r)\n",
        "print(\"Eigenvalues:\\n\",eigen_values_r)"
      ],
      "metadata": {
        "colab": {
          "base_uri": "https://localhost:8080/"
        },
        "id": "p7JeWM7io4NX",
        "outputId": "7806e3c9-83ab-4ff3-8fdb-65989cc42675"
      },
      "execution_count": null,
      "outputs": [
        {
          "output_type": "stream",
          "name": "stdout",
          "text": [
            "Eigenvector:\n",
            " tf.Tensor(\n",
            "[[-0.81225497 -0.5833025 ]\n",
            " [ 0.5833025  -0.81225497]], shape=(2, 2), dtype=float32)\n",
            "Eigenvalues:\n",
            " tf.Tensor([-2.648444 14.011043], shape=(2,), dtype=float32)\n"
          ]
        }
      ]
    },
    {
      "cell_type": "code",
      "source": [
        "eigen_values_s,eigen_vector_s=tf.linalg.eigh(s)\n",
        "print(\"EigenVector:\\n\",eigen_vector_s)\n",
        "print(\"EigenValues:\\n\",eigen_values_s)"
      ],
      "metadata": {
        "id": "QLEmoX7ErGAQ",
        "colab": {
          "base_uri": "https://localhost:8080/"
        },
        "outputId": "e8d6507f-40b6-423a-b0e0-88c193bc2c28"
      },
      "execution_count": null,
      "outputs": [
        {
          "output_type": "stream",
          "name": "stdout",
          "text": [
            "EigenVector:\n",
            " tf.Tensor(\n",
            "[[-0.7932987  -0.10520198 -0.16603912  0.5762299 ]\n",
            " [ 0.14115576  0.32686839  0.7991848   0.484289  ]\n",
            " [ 0.34309036  0.6177149  -0.5685366   0.4212879 ]\n",
            " [ 0.48274356 -0.7074729  -0.10247412  0.505905  ]], shape=(4, 4), dtype=float32)\n",
            "EigenValues:\n",
            " tf.Tensor([-50.53891    9.980455  49.67815  228.20459 ], shape=(4,), dtype=float32)\n"
          ]
        }
      ]
    },
    {
      "cell_type": "code",
      "source": [
        "a1=tf.constant([-6.0,3.0,4.0,5.0],shape=[2,2])\n",
        "a1"
      ],
      "metadata": {
        "colab": {
          "base_uri": "https://localhost:8080/"
        },
        "id": "P_GbFnogqtLe",
        "outputId": "1fba40fc-9149-4593-881c-8fc65787daf8"
      },
      "execution_count": null,
      "outputs": [
        {
          "output_type": "execute_result",
          "data": {
            "text/plain": [
              "<tf.Tensor: shape=(2, 2), dtype=float32, numpy=\n",
              "array([[-6.,  3.],\n",
              "       [ 4.,  5.]], dtype=float32)>"
            ]
          },
          "metadata": {},
          "execution_count": 15
        }
      ]
    },
    {
      "cell_type": "code",
      "source": [
        "eigen_values_a1,eigen_vector_a1=tf.linalg.eigh(a1)"
      ],
      "metadata": {
        "id": "dyHI0QwJrA5U"
      },
      "execution_count": null,
      "outputs": []
    },
    {
      "cell_type": "code",
      "source": [
        "print(\"Eigenvector:\\n\",eigen_vector_a1)\n",
        "print(\"Eigenvalues:\\n\",eigen_values_a1)"
      ],
      "metadata": {
        "colab": {
          "base_uri": "https://localhost:8080/"
        },
        "id": "8vLyNE4_rHAF",
        "outputId": "6c47d39a-c137-44cd-af87-8fbfc0530bcc"
      },
      "execution_count": null,
      "outputs": [
        {
          "output_type": "stream",
          "name": "stdout",
          "text": [
            "Eigenvector:\n",
            " tf.Tensor(\n",
            "[[-0.9509827  -0.30924422]\n",
            " [ 0.30924422 -0.9509827 ]], shape=(2, 2), dtype=float32)\n",
            "Eigenvalues:\n",
            " tf.Tensor([-7.3007355  6.3007355], shape=(2,), dtype=float32)\n"
          ]
        }
      ]
    },
    {
      "cell_type": "code",
      "source": [
        ""
      ],
      "metadata": {
        "id": "n9zplgVtrFDF"
      },
      "execution_count": null,
      "outputs": []
    }
  ]
}