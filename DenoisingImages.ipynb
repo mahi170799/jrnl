{
  "nbformat": 4,
  "nbformat_minor": 0,
  "metadata": {
    "colab": {
      "name": "DenoisingImages.ipynb",
      "provenance": []
    },
    "kernelspec": {
      "name": "python3",
      "display_name": "Python 3"
    },
    "language_info": {
      "name": "python"
    }
  },
  "cells": [
    {
      "cell_type": "markdown",
      "source": [
        "Performing Denoising of an image using autoenocder"
      ],
      "metadata": {
        "id": "WfWieO3CS6IE"
      }
    },
    {
      "cell_type": "code",
      "execution_count": 8,
      "metadata": {
        "id": "oA_5fb1nRqVm"
      },
      "outputs": [],
      "source": [
        "import keras\n",
        "from keras.datasets import mnist\n",
        "from keras import layers\n",
        "import numpy as np\n",
        "import matplotlib.pyplot as plt"
      ]
    },
    {
      "cell_type": "code",
      "source": [
        "(xtrain,_),(xtest,_)=mnist.load_data()"
      ],
      "metadata": {
        "colab": {
          "base_uri": "https://localhost:8080/"
        },
        "id": "S7Rx3k9XTJuT",
        "outputId": "e67686f9-ded8-4e91-b126-873b05966398"
      },
      "execution_count": 4,
      "outputs": [
        {
          "output_type": "stream",
          "name": "stdout",
          "text": [
            "Downloading data from https://storage.googleapis.com/tensorflow/tf-keras-datasets/mnist.npz\n",
            "11493376/11490434 [==============================] - 0s 0us/step\n",
            "11501568/11490434 [==============================] - 0s 0us/step\n"
          ]
        }
      ]
    },
    {
      "cell_type": "code",
      "source": [
        "xtrain.shape"
      ],
      "metadata": {
        "colab": {
          "base_uri": "https://localhost:8080/"
        },
        "id": "FAOgQcrTTifX",
        "outputId": "c6101896-f5b5-4a4c-fe15-c49835c22a62"
      },
      "execution_count": 5,
      "outputs": [
        {
          "output_type": "execute_result",
          "data": {
            "text/plain": [
              "(60000, 28, 28)"
            ]
          },
          "metadata": {},
          "execution_count": 5
        }
      ]
    },
    {
      "cell_type": "code",
      "source": [
        "xtest.shape"
      ],
      "metadata": {
        "colab": {
          "base_uri": "https://localhost:8080/"
        },
        "id": "yiGbcJrcTk4p",
        "outputId": "5b8d9284-6c18-40d8-e203-7744a82e3d62"
      },
      "execution_count": 6,
      "outputs": [
        {
          "output_type": "execute_result",
          "data": {
            "text/plain": [
              "(10000, 28, 28)"
            ]
          },
          "metadata": {},
          "execution_count": 6
        }
      ]
    },
    {
      "cell_type": "code",
      "source": [
        "plt.imshow(xtrain[0])"
      ],
      "metadata": {
        "colab": {
          "base_uri": "https://localhost:8080/",
          "height": 282
        },
        "id": "N2n2c6AxTont",
        "outputId": "1ad88f20-9cba-426a-9d63-1346531f1dc3"
      },
      "execution_count": 9,
      "outputs": [
        {
          "output_type": "execute_result",
          "data": {
            "text/plain": [
              "<matplotlib.image.AxesImage at 0x7f76141775d0>"
            ]
          },
          "metadata": {},
          "execution_count": 9
        },
        {
          "output_type": "display_data",
          "data": {
            "text/plain": [
              "<Figure size 432x288 with 1 Axes>"
            ],
            "image/png": "[encoded data removed]"
          },
          "metadata": {
            "needs_background": "light"
          }
        }
      ]
    },
    {
      "cell_type": "code",
      "source": [
        "xtrain=xtrain.astype('float32')/255.\n",
        "xtest=xtest.astype('float32')/255."
      ],
      "metadata": {
        "id": "g10TaSHBT2ol"
      },
      "execution_count": 10,
      "outputs": []
    },
    {
      "cell_type": "code",
      "source": [
        "xtrain.shape"
      ],
      "metadata": {
        "colab": {
          "base_uri": "https://localhost:8080/"
        },
        "id": "ceAdGoiBUIGx",
        "outputId": "25181d11-c61a-4410-bb03-63a371871b93"
      },
      "execution_count": 11,
      "outputs": [
        {
          "output_type": "execute_result",
          "data": {
            "text/plain": [
              "(60000, 28, 28)"
            ]
          },
          "metadata": {},
          "execution_count": 11
        }
      ]
    },
    {
      "cell_type": "code",
      "source": [
        "xtest.shape"
      ],
      "metadata": {
        "colab": {
          "base_uri": "https://localhost:8080/"
        },
        "id": "CkL0QNbXULqH",
        "outputId": "979021d3-25d4-477b-95b2-e04f3048490e"
      },
      "execution_count": 13,
      "outputs": [
        {
          "output_type": "execute_result",
          "data": {
            "text/plain": [
              "(10000, 28, 28)"
            ]
          },
          "metadata": {},
          "execution_count": 13
        }
      ]
    },
    {
      "cell_type": "code",
      "source": [
        "xtrain=np.reshape(xtrain,(len(xtrain),28,28,1))\n",
        "xtest=np.reshape(xtest,(len(xtest),28,28,1))"
      ],
      "metadata": {
        "id": "a60aXoXbUP8u"
      },
      "execution_count": 14,
      "outputs": []
    },
    {
      "cell_type": "code",
      "source": [
        "noise_factor=0.5"
      ],
      "metadata": {
        "id": "esE4pOk5UkWA"
      },
      "execution_count": 15,
      "outputs": []
    },
    {
      "cell_type": "code",
      "source": [
        "xtrain_noisy=xtrain+noise_factor*np.random.normal(loc=0.0,scale=1.0,size=xtrain.shape)\n",
        "xtest_noisy=xtest+noise_factor*np.random.normal(loc=0.0,scale=1.0,size=xtest.shape)"
      ],
      "metadata": {
        "id": "JDgFrQiNUnxH"
      },
      "execution_count": 16,
      "outputs": []
    },
    {
      "cell_type": "code",
      "source": [
        "xtrain_noisy=np.clip(xtrain_noisy,0.,1)\n",
        "xtest_noisy=np.clip(xtest_noisy,0.,1)"
      ],
      "metadata": {
        "id": "2EF0jlFcVE5A"
      },
      "execution_count": 17,
      "outputs": []
    },
    {
      "cell_type": "code",
      "source": [
        "n=10\n",
        "plt.figure(figsize=(20,2))\n",
        "for i in range(1,n+1):\n",
        "  ax=plt.subplot(1,n,i)\n",
        "  plt.imshow(xtest_noisy[i].reshape(28,28))\n",
        "  plt.gray()\n",
        "  ax.get_xaxis().set_visible(False)\n",
        "  ax.get_yaxis().set_visible(False)"
      ],
      "metadata": {
        "colab": {
          "base_uri": "https://localhost:8080/",
          "height": 129
        },
        "id": "SagWnxJtVYc1",
        "outputId": "ac072ec7-50cb-4a9d-89a8-3fcd8c765b5d"
      },
      "execution_count": 20,
      "outputs": [
        {
          "output_type": "display_data",
          "data": {
            "text/plain": [
              "<Figure size 1440x144 with 10 Axes>"
            ],
            "image/png": "[encoded data removed]"
          },
          "metadata": {
            "needs_background": "light"
          }
        }
      ]
    },
    {
      "cell_type": "code",
      "source": [
        "input_img=keras.Input(shape=(28,28,1))"
      ],
      "metadata": {
        "id": "7ZD2I1J-Wqs2"
      },
      "execution_count": 21,
      "outputs": []
    },
    {
      "cell_type": "code",
      "source": [
        "x=layers.Conv2D(32,(3,3),activation='relu',padding='same')(input_img)\n",
        "x=layers.MaxPooling2D((2,2),padding='same')(x)\n",
        "x=layers.Conv2D(32,(3,3),activation='relu',padding='same')(x)\n",
        "encoded=layers.MaxPooling2D((2,2),padding='same')(x)"
      ],
      "metadata": {
        "id": "kkn_wFH8XARI"
      },
      "execution_count": 23,
      "outputs": []
    },
    {
      "cell_type": "code",
      "source": [
        "x=layers.Conv2D(32,(3,3),activation='relu',padding='same')(encoded)\n",
        "x=layers.UpSampling2D((2,2))(x)\n",
        "x=layers.Conv2D(32,(3,3),activation='relu',padding='same')(x)\n",
        "x=layers.UpSampling2D((2,2))(x)\n",
        "decoded=layers.Conv2D(1,(3,3),activation='sigmoid',padding='same')(x)"
      ],
      "metadata": {
        "id": "KyA5w8LgaOwe"
      },
      "execution_count": 24,
      "outputs": []
    },
    {
      "cell_type": "code",
      "source": [
        "autoencoder=keras.Model(input_img,decoded)"
      ],
      "metadata": {
        "id": "tWabWjLRa21I"
      },
      "execution_count": 25,
      "outputs": []
    },
    {
      "cell_type": "code",
      "source": [
        "autoencoder.compile(optimizer='adam',loss='binary_crossentropy')"
      ],
      "metadata": {
        "id": "2TYUmx1mbFY6"
      },
      "execution_count": 27,
      "outputs": []
    },
    {
      "cell_type": "code",
      "source": [
        "autoencoder.fit(xtrain_noisy,xtrain,epochs=3,batch_size=128,validation_data=(xtest_noisy,xtest))"
      ],
      "metadata": {
        "colab": {
          "base_uri": "https://localhost:8080/"
        },
        "id": "0nBKko-VbRVo",
        "outputId": "6e7d3b06-e1f1-4713-8ed1-f578a1e873ab"
      },
      "execution_count": 28,
      "outputs": [
        {
          "output_type": "stream",
          "name": "stdout",
          "text": [
            "Epoch 1/3\n",
            "469/469 [==============================] - 188s 397ms/step - loss: 0.1670 - val_loss: 0.1175\n",
            "Epoch 2/3\n",
            "469/469 [==============================] - 168s 358ms/step - loss: 0.1146 - val_loss: 0.1099\n",
            "Epoch 3/3\n",
            "469/469 [==============================] - 168s 358ms/step - loss: 0.1091 - val_loss: 0.1063\n"
          ]
        },
        {
          "output_type": "execute_result",
          "data": {
            "text/plain": [
              "<keras.callbacks.History at 0x7f7610b135d0>"
            ]
          },
          "metadata": {},
          "execution_count": 28
        }
      ]
    },
    {
      "cell_type": "code",
      "source": [
        "prediction=autoencoder.predict(xtest_noisy)"
      ],
      "metadata": {
        "id": "tbfI606Kbo2D"
      },
      "execution_count": 30,
      "outputs": []
    },
    {
      "cell_type": "code",
      "source": [
        "n=10\n",
        "plt.figure(figsize=(20,2))\n",
        "for i in range(1,n+1):\n",
        "  ax=plt.subplot(1,n,i)\n",
        "  plt.imshow(prediction[i].reshape(28,28))\n",
        "  plt.gray()\n",
        "  ax.get_xaxis().set_visible(False)\n",
        "  ax.get_yaxis().set_visible(False)"
      ],
      "metadata": {
        "colab": {
          "base_uri": "https://localhost:8080/",
          "height": 129
        },
        "id": "irPsbakacKYF",
        "outputId": "a103a67d-a817-4c6f-81cb-337f35d0a0b6"
      },
      "execution_count": 32,
      "outputs": [
        {
          "output_type": "display_data",
          "data": {
            "text/plain": [
              "<Figure size 1440x144 with 10 Axes>"
            ],
            "image/png": "[encoded data removed]"
          },
          "metadata": {
            "needs_background": "light"
          }
        }
      ]
    }
  ]
}