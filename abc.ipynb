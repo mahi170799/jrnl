{
 "cells": [
  {
   "cell_type": "markdown",
   "id": "13ecdb11",
   "metadata": {},
   "source": [
    "# Practical 1"
   ]
  },
  {
   "cell_type": "markdown",
   "id": "a9253614",
   "metadata": {},
   "source": [
    "# Practical 1a: A simple client classs that generates the private and public keys using the built-in python RSA algorithm and test it"
   ]
  },
  {
   "cell_type": "code",
   "execution_count": 1,
   "id": "9471b8c5",
   "metadata": {},
   "outputs": [],
   "source": [
    "import hashlib\n",
    "import random\n",
    "import string"
   ]
  },
  {
   "cell_type": "code",
   "execution_count": 2,
   "id": "b3d6cff2",
   "metadata": {},
   "outputs": [],
   "source": [
    "import json"
   ]
  },
  {
   "cell_type": "code",
   "execution_count": 3,
   "id": "46d3e82e",
   "metadata": {},
   "outputs": [],
   "source": [
    "import binascii"
   ]
  },
  {
   "cell_type": "code",
   "execution_count": 4,
   "id": "8f40d374",
   "metadata": {},
   "outputs": [],
   "source": [
    "import numpy as np\n",
    "import pandas as pd\n",
    "import pylab as pl\n",
    "import logging\n",
    "import datetime\n",
    "import collections"
   ]
  },
  {
   "cell_type": "code",
   "execution_count": 5,
   "id": "135c765c",
   "metadata": {},
   "outputs": [],
   "source": [
    "import Crypto"
   ]
  },
  {
   "cell_type": "code",
   "execution_count": 6,
   "id": "50619c20",
   "metadata": {},
   "outputs": [],
   "source": [
    "#pip install Crypto"
   ]
  },
  {
   "cell_type": "code",
   "execution_count": 7,
   "id": "53405482",
   "metadata": {},
   "outputs": [],
   "source": [
    "import Crypto"
   ]
  },
  {
   "cell_type": "code",
   "execution_count": 8,
   "id": "92e124a1",
   "metadata": {},
   "outputs": [
    {
     "name": "stdout",
     "output_type": "stream",
     "text": [
      "Requirement already satisfied: pycryptodome in c:\\users\\comp86\\anaconda3\\lib\\site-packages (3.14.1)\n",
      "Note: you may need to restart the kernel to use updated packages.\n"
     ]
    }
   ],
   "source": [
    "pip install pycryptodome"
   ]
  },
  {
   "cell_type": "code",
   "execution_count": 9,
   "id": "d6f5d612",
   "metadata": {},
   "outputs": [],
   "source": [
    "import Crypto.Random"
   ]
  },
  {
   "cell_type": "code",
   "execution_count": 10,
   "id": "ab2d8665",
   "metadata": {},
   "outputs": [],
   "source": [
    "from Crypto.Hash import SHA"
   ]
  },
  {
   "cell_type": "code",
   "execution_count": 11,
   "id": "11b35a7b",
   "metadata": {},
   "outputs": [],
   "source": [
    "from Crypto.PublicKey import RSA"
   ]
  },
  {
   "cell_type": "code",
   "execution_count": 12,
   "id": "9551eff1",
   "metadata": {},
   "outputs": [],
   "source": [
    "from Crypto.Signature import PKCS1_v1_5"
   ]
  },
  {
   "cell_type": "code",
   "execution_count": 13,
   "id": "af030fd6",
   "metadata": {},
   "outputs": [],
   "source": [
    "import binascii\n",
    "class Client:\n",
    "    def __init__(self): \n",
    "        random = Crypto.Random.new().read\n",
    "        self._private_key = RSA.generate(1024, random)\n",
    "        self._public_key = self._private_key.publickey()\n",
    "        self._signer = PKCS1_v1_5.new(self._private_key)\n",
    "        \n",
    "    @property\n",
    "    def identity(self): \n",
    "        return binascii.hexlify(self._public_key.exportKey(format='DER')).decode(\"ascii\")"
   ]
  },
  {
   "cell_type": "code",
   "execution_count": 14,
   "id": "998aefa1",
   "metadata": {},
   "outputs": [],
   "source": [
    "Blockchain=Client()"
   ]
  },
  {
   "cell_type": "code",
   "execution_count": 15,
   "id": "b48102ce",
   "metadata": {},
   "outputs": [
    {
     "name": "stdout",
     "output_type": "stream",
     "text": [
      "30819f300d06092a864886f70d010101050003818d0030818902818100bfc251749b770a3aaa651a1ff436213fe36ef17d83e7cd8dba45ce51fbb4045803168e12f449395856f9deb511f98c6f5d7eb1984c399df206e5be9ddc0e68d5e4bf7313f83d6700ce47eda0c61ee7ee5d438c578c3e946dce9260a57b11ed4bf0ef4b5d74d46283fc7cda33850cfe7db16e85e39538c432743107284ede5aaf0203010001\n"
     ]
    }
   ],
   "source": [
    "print(Blockchain.identity)"
   ]
  },
  {
   "cell_type": "markdown",
   "id": "c8019d54",
   "metadata": {},
   "source": [
    "# Practical 1 b Transaction class to send and receive money and test it"
   ]
  },
  {
   "cell_type": "code",
   "execution_count": 16,
   "id": "a470c022",
   "metadata": {},
   "outputs": [],
   "source": [
    "class Transaction:\n",
    "    def __init__(self,sender,recipient, value):\n",
    "        self.sender=sender\n",
    "        self.recipient=recipient\n",
    "        self.value=value\n",
    "        self.time=datetime.datetime.now()"
   ]
  },
  {
   "cell_type": "code",
   "execution_count": 17,
   "id": "eac0d89c",
   "metadata": {},
   "outputs": [],
   "source": [
    "class Transaction:\n",
    "    def __init__(self,sender,recipient, value):\n",
    "        self.sender=sender\n",
    "        self.recipient=recipient\n",
    "        self.value=value\n",
    "        self.time=datetime.datetime.now()\n",
    "    def to_dict(self):\n",
    "        if self.sender == \"Genesis\":\n",
    "            identity = \"Genesis\"\n",
    "        else:\n",
    "            identity = self.sender.identity\n",
    "        #Dictionary objects\n",
    "        return collections.OrderedDict({\n",
    "            'sender':identity,\n",
    "            'recipient':self.recipient,\n",
    "            'value':self.value,\n",
    "            'time':self.time\n",
    "    })\n",
    "    def sign_transaction(self):\n",
    "        private_key = self.sender._private_key\n",
    "        signer = PKCS1_v1_5.new(private_key)\n",
    "        h = SHA.new(str(self.to_dict()).encode('utf8'))\n",
    "        return binascii.hexlify(signer.sign(h)).decode('ascii')"
   ]
  },
  {
   "cell_type": "code",
   "execution_count": 18,
   "id": "6d911265",
   "metadata": {},
   "outputs": [],
   "source": [
    "def sign_transaction(self):\n",
    "    private_key = self.sender._private_key\n",
    "    signer = PKCS1_v1_5.new(private_key)\n",
    "    h = SHA.new(str(self.to_dict()).encode('utf8'))\n",
    "    return binascii.hexlify(signer.sign(h)).decode('ascii')"
   ]
  },
  {
   "cell_type": "code",
   "execution_count": 19,
   "id": "4271b2cb",
   "metadata": {},
   "outputs": [],
   "source": [
    "#Testing\n",
    "Alice=Client()\n",
    "Bob=Client()"
   ]
  },
  {
   "cell_type": "code",
   "execution_count": 20,
   "id": "b541fd7b",
   "metadata": {},
   "outputs": [
    {
     "name": "stdout",
     "output_type": "stream",
     "text": [
      "99ad41b38220f90d413e6857475e12840586dcbde3d731de78acefb5ea832a7bfb246aa3ac3b8e27eaf7e60b1a0d4c5d18a9f108a2758ddfe56d55c7e3b9ca0fcca1c651c2eea7546834b85735a6954e0759c54707a5477178a2b4b3cc9d9438105e28777d8f776a1b99d625b71d76cf20188cfd095a1a6be30d556596090d52\n"
     ]
    }
   ],
   "source": [
    "t=Transaction(Alice,Bob.identity,5.0)\n",
    "signature=t.sign_transaction()\n",
    "print(signature)"
   ]
  },
  {
   "cell_type": "markdown",
   "id": "511e7f80",
   "metadata": {},
   "source": [
    "# Practical 1c Create multiple transaction and display them"
   ]
  },
  {
   "cell_type": "code",
   "execution_count": 21,
   "id": "11cbd1d2",
   "metadata": {},
   "outputs": [],
   "source": [
    "def display_transaction(transaction): \n",
    "    #for transaction in transactions: \n",
    "    dict = transaction.to_dict() \n",
    "    print (\"sender: \" + dict['sender']) \n",
    "    print ('-----') \n",
    "    print (\"recipient: \" + dict['recipient']) \n",
    "    print ('-----') \n",
    "    print (\"value: \" + str(dict['value'])) \n",
    "    print ('-----') \n",
    "    print (\"time: \" + str(dict['time'])) \n",
    "    print ('-----') \n"
   ]
  },
  {
   "cell_type": "code",
   "execution_count": 22,
   "id": "1de2288c",
   "metadata": {},
   "outputs": [],
   "source": [
    "transactions=[]"
   ]
  },
  {
   "cell_type": "code",
   "execution_count": 23,
   "id": "15c85493",
   "metadata": {},
   "outputs": [],
   "source": [
    "Alice=Client()\n",
    "Bob=Client()\n",
    "Jenny=Client()\n",
    "John=Client()"
   ]
  },
  {
   "cell_type": "code",
   "execution_count": 24,
   "id": "5843ca28",
   "metadata": {},
   "outputs": [],
   "source": [
    "t1=Transaction(Alice,Bob.identity,15.0)\n",
    "t1.sign_transaction()\n",
    "transactions.append(t1)\n",
    "\n",
    "t2=Transaction(Alice,Jenny.identity,5.0)\n",
    "t2.sign_transaction()\n",
    "transactions.append(t2)\n",
    "\n",
    "t3=Transaction(Jenny,John.identity,10.0)\n",
    "t3.sign_transaction()\n",
    "transactions.append(t3)\n",
    "\n",
    "t4=Transaction(Alice,John.identity,20.0)\n",
    "t4.sign_transaction()\n",
    "transactions.append(t4)\n",
    "\n",
    "t4=Transaction(John,Alice.identity,20.0)\n",
    "t4.sign_transaction()\n",
    "transactions.append(t4)\n"
   ]
  },
  {
   "cell_type": "code",
   "execution_count": 25,
   "id": "a295c7ee",
   "metadata": {},
   "outputs": [
    {
     "name": "stdout",
     "output_type": "stream",
     "text": [
      "sender: 30819f300d06092a864886f70d010101050003818d0030818902818100b8852f2747a087f1ac252e36b1b861c3a1e33eebdabdff6cddcb4b00910119e5f4227a12e80024d351a01a5e18490850266d0be30427d9e33b005f5227b49dcbf64bc26b17647a09a44c4c5ff2f3a85e0c34a40783f06e2fdd635ea5a1cd571b76d0096259a97f184032a087df4d24ddacf1dd55632d635de086628b5e7cebab0203010001\n",
      "-----\n",
      "recipient: 30819f300d06092a864886f70d010101050003818d00308189028181008de02c5a466d2341d42d72543703ca8059cbc21509e06f258ac0f7181d2b0540ad742ef742912f10e6dbe98e57a974f3d92f57b161149163a07e65fda1dd8555779eb91b6dc8114dce92575e6a1b3ad55316b047a470676a0e0deed8a783fb0dfe729a39965d0a20bc15fe93e222a0036b33f5aa214e1989f002b5654d231f930203010001\n",
      "-----\n",
      "value: 15.0\n",
      "-----\n",
      "time: 2022-05-07 10:59:44.922238\n",
      "-----\n",
      "*************************************************************************\n",
      "sender: 30819f300d06092a864886f70d010101050003818d0030818902818100b8852f2747a087f1ac252e36b1b861c3a1e33eebdabdff6cddcb4b00910119e5f4227a12e80024d351a01a5e18490850266d0be30427d9e33b005f5227b49dcbf64bc26b17647a09a44c4c5ff2f3a85e0c34a40783f06e2fdd635ea5a1cd571b76d0096259a97f184032a087df4d24ddacf1dd55632d635de086628b5e7cebab0203010001\n",
      "-----\n",
      "recipient: 30819f300d06092a864886f70d010101050003818d0030818902818100c707f82ab4fc519f8c35eaa2c3eb8466f5f0c6e940e6039092c962c97c5d75db0c5efb26067f52786dd9992f2e1313bc163deb043bb1850c8be4eacc268426eb4ed5327f6f109b55b927a64023ae824417554fed60a74b958d671c8bbaed7264a4e326b29e455a8a0efe1d68526f6edc3386a29c2922c6908579de0af19d2e8d0203010001\n",
      "-----\n",
      "value: 5.0\n",
      "-----\n",
      "time: 2022-05-07 10:59:44.926331\n",
      "-----\n",
      "*************************************************************************\n",
      "sender: 30819f300d06092a864886f70d010101050003818d0030818902818100c707f82ab4fc519f8c35eaa2c3eb8466f5f0c6e940e6039092c962c97c5d75db0c5efb26067f52786dd9992f2e1313bc163deb043bb1850c8be4eacc268426eb4ed5327f6f109b55b927a64023ae824417554fed60a74b958d671c8bbaed7264a4e326b29e455a8a0efe1d68526f6edc3386a29c2922c6908579de0af19d2e8d0203010001\n",
      "-----\n",
      "recipient: 30819f300d06092a864886f70d010101050003818d0030818902818100bf11bee9556d6393d26926562ac342387f12270e5eae00b3f28a3c13c9c82130b5638fede100f6ca037acc1be09ca7c3f8cd18ca03afdbe9b8dcca5e5922debc3cd3559ce16b9773da12294cfa7cf60df28e2715b757439825dec1e622b39a4be96c73b86697061c2177080f558a395bd0cbfb8597b4b46ad61347c52ff116510203010001\n",
      "-----\n",
      "value: 10.0\n",
      "-----\n",
      "time: 2022-05-07 10:59:44.926331\n",
      "-----\n",
      "*************************************************************************\n",
      "sender: 30819f300d06092a864886f70d010101050003818d0030818902818100b8852f2747a087f1ac252e36b1b861c3a1e33eebdabdff6cddcb4b00910119e5f4227a12e80024d351a01a5e18490850266d0be30427d9e33b005f5227b49dcbf64bc26b17647a09a44c4c5ff2f3a85e0c34a40783f06e2fdd635ea5a1cd571b76d0096259a97f184032a087df4d24ddacf1dd55632d635de086628b5e7cebab0203010001\n",
      "-----\n",
      "recipient: 30819f300d06092a864886f70d010101050003818d0030818902818100bf11bee9556d6393d26926562ac342387f12270e5eae00b3f28a3c13c9c82130b5638fede100f6ca037acc1be09ca7c3f8cd18ca03afdbe9b8dcca5e5922debc3cd3559ce16b9773da12294cfa7cf60df28e2715b757439825dec1e622b39a4be96c73b86697061c2177080f558a395bd0cbfb8597b4b46ad61347c52ff116510203010001\n",
      "-----\n",
      "value: 20.0\n",
      "-----\n",
      "time: 2022-05-07 10:59:44.926331\n",
      "-----\n",
      "*************************************************************************\n",
      "sender: 30819f300d06092a864886f70d010101050003818d0030818902818100bf11bee9556d6393d26926562ac342387f12270e5eae00b3f28a3c13c9c82130b5638fede100f6ca037acc1be09ca7c3f8cd18ca03afdbe9b8dcca5e5922debc3cd3559ce16b9773da12294cfa7cf60df28e2715b757439825dec1e622b39a4be96c73b86697061c2177080f558a395bd0cbfb8597b4b46ad61347c52ff116510203010001\n",
      "-----\n",
      "recipient: 30819f300d06092a864886f70d010101050003818d0030818902818100b8852f2747a087f1ac252e36b1b861c3a1e33eebdabdff6cddcb4b00910119e5f4227a12e80024d351a01a5e18490850266d0be30427d9e33b005f5227b49dcbf64bc26b17647a09a44c4c5ff2f3a85e0c34a40783f06e2fdd635ea5a1cd571b76d0096259a97f184032a087df4d24ddacf1dd55632d635de086628b5e7cebab0203010001\n",
      "-----\n",
      "value: 20.0\n",
      "-----\n",
      "time: 2022-05-07 10:59:44.926331\n",
      "-----\n",
      "*************************************************************************\n"
     ]
    }
   ],
   "source": [
    "for transaction in transactions:\n",
    "    display_transaction(transaction)\n",
    "    print(\"*************************************************************************\")"
   ]
  },
  {
   "cell_type": "markdown",
   "id": "50888e71",
   "metadata": {},
   "source": [
    "# practical 1d Create a blockchain, a genesis block and execute it"
   ]
  },
  {
   "cell_type": "code",
   "execution_count": 57,
   "id": "82d70593",
   "metadata": {},
   "outputs": [],
   "source": [
    "class Block:\n",
    "    def __init__(self):\n",
    "        self.verified_transactions=[]\n",
    "        self.previous_block_hash=\"\"\n",
    "        self.Nounce=\"\""
   ]
  },
  {
   "cell_type": "code",
   "execution_count": 58,
   "id": "9cf36c61",
   "metadata": {},
   "outputs": [],
   "source": [
    "last_block_hash=\"\""
   ]
  },
  {
   "cell_type": "code",
   "execution_count": 59,
   "id": "0e78e860",
   "metadata": {},
   "outputs": [],
   "source": [
    "Alice=Client()"
   ]
  },
  {
   "cell_type": "code",
   "execution_count": 72,
   "id": "87d924e6",
   "metadata": {},
   "outputs": [],
   "source": [
    "t0=Transaction(\"Genesis\",Alice.identity,400.0)"
   ]
  },
  {
   "cell_type": "code",
   "execution_count": 61,
   "id": "055a4307",
   "metadata": {},
   "outputs": [],
   "source": [
    "block0=Block()"
   ]
  },
  {
   "cell_type": "code",
   "execution_count": 62,
   "id": "4666717c",
   "metadata": {},
   "outputs": [],
   "source": [
    "block0.previous_block_hash=None\n",
    "Nounce = None"
   ]
  },
  {
   "cell_type": "code",
   "execution_count": 63,
   "id": "117bc3ec",
   "metadata": {},
   "outputs": [],
   "source": [
    "block0.verified_transactions.append(t0)"
   ]
  },
  {
   "cell_type": "code",
   "execution_count": 64,
   "id": "c4f09502",
   "metadata": {},
   "outputs": [],
   "source": [
    "digest=hash(block0)\n",
    "last_block_hash=digest"
   ]
  },
  {
   "cell_type": "code",
   "execution_count": 65,
   "id": "35fe3969",
   "metadata": {},
   "outputs": [
    {
     "data": {
      "text/plain": [
       "174954936694"
      ]
     },
     "execution_count": 65,
     "metadata": {},
     "output_type": "execute_result"
    }
   ],
   "source": [
    "digest"
   ]
  },
  {
   "cell_type": "code",
   "execution_count": 66,
   "id": "e687ceba",
   "metadata": {},
   "outputs": [
    {
     "data": {
      "text/plain": [
       "174954936694"
      ]
     },
     "execution_count": 66,
     "metadata": {},
     "output_type": "execute_result"
    }
   ],
   "source": [
    "last_block_hash"
   ]
  },
  {
   "cell_type": "markdown",
   "id": "296f7a62",
   "metadata": {},
   "source": [
    "# 1f"
   ]
  },
  {
   "cell_type": "code",
   "execution_count": 67,
   "id": "55527784",
   "metadata": {},
   "outputs": [],
   "source": [
    "MyBlockchain1 = []"
   ]
  },
  {
   "cell_type": "code",
   "execution_count": 74,
   "id": "0ee7bdb0",
   "metadata": {},
   "outputs": [],
   "source": [
    "def dump_blockchain (self):\n",
    "    print (\"Number of blocks in the chain: \" + str(len (self)))\n",
    "    for x in range (len(MyBlockchain1)):\n",
    "        block_temp = MyBlockchain1[x]\n",
    "        print (\"block # \" + str(x))\n",
    "        for transaction in block_temp.verified_transactions:\n",
    "            display_transaction (transaction)\n",
    "            print ('--------------')\n",
    "        print ('=====================================')\n"
   ]
  },
  {
   "cell_type": "code",
   "execution_count": 75,
   "id": "26071b8a",
   "metadata": {},
   "outputs": [],
   "source": [
    "MyBlockchain1.append(block0)\n"
   ]
  },
  {
   "cell_type": "code",
   "execution_count": 76,
   "id": "2a1ef9e4",
   "metadata": {},
   "outputs": [
    {
     "name": "stdout",
     "output_type": "stream",
     "text": [
      "Number of blocks in the chain: 2\n",
      "block # 0\n",
      "sender: Genesis\n",
      "-----\n",
      "recipient: 30819f300d06092a864886f70d010101050003818d0030818902818100ca916bc0060e0e7749cefab4e9a8d1ad514694cc7d93f972e1307c58567560b6c227a391c5f1bce8b6dabc08dfcf90a3eea75158a9551769c2ba3c6799c0ccea473deef2daf861cfb61d0625a5c537ec8841665495fbf16f25566ad21307be726c2f9fa1198e3ba94d2ff48baf33cc3e2ed73930d7a370914481492dfb087ed50203010001\n",
      "-----\n",
      "value: 400.0\n",
      "-----\n",
      "time: 2022-05-07 11:02:49.094967\n",
      "-----\n",
      "--------------\n",
      "=====================================\n",
      "block # 1\n",
      "sender: Genesis\n",
      "-----\n",
      "recipient: 30819f300d06092a864886f70d010101050003818d0030818902818100ca916bc0060e0e7749cefab4e9a8d1ad514694cc7d93f972e1307c58567560b6c227a391c5f1bce8b6dabc08dfcf90a3eea75158a9551769c2ba3c6799c0ccea473deef2daf861cfb61d0625a5c537ec8841665495fbf16f25566ad21307be726c2f9fa1198e3ba94d2ff48baf33cc3e2ed73930d7a370914481492dfb087ed50203010001\n",
      "-----\n",
      "value: 400.0\n",
      "-----\n",
      "time: 2022-05-07 11:02:49.094967\n",
      "-----\n",
      "--------------\n",
      "=====================================\n"
     ]
    }
   ],
   "source": [
    "dump_blockchain(MyBlockchain1)"
   ]
  },
  {
   "cell_type": "markdown",
   "id": "b00cd0a9",
   "metadata": {},
   "source": [
    "# 1e"
   ]
  },
  {
   "cell_type": "code",
   "execution_count": 77,
   "id": "51ff7f26",
   "metadata": {},
   "outputs": [],
   "source": [
    "def sha256(message):\n",
    "    return hashlib.sha256(message.encode('ascii')).hexdigest()\n"
   ]
  },
  {
   "cell_type": "code",
   "execution_count": 80,
   "id": "1c67702a",
   "metadata": {},
   "outputs": [],
   "source": [
    "def mine(message, difficulty=1):\n",
    "    assert difficulty >= 1\n",
    "    prefix = '1' * difficulty\n",
    "    for i in range(1000):\n",
    "        digest = sha256(str(hash(message)) + str(i))\n",
    "        if digest.startswith(prefix):\n",
    "            print (\"after \" + str(i) + \" iterations found nonce: \"+ digest)\n",
    "    return digest\n"
   ]
  },
  {
   "cell_type": "code",
   "execution_count": 81,
   "id": "764ea4f6",
   "metadata": {},
   "outputs": [
    {
     "name": "stdout",
     "output_type": "stream",
     "text": [
      "after 249 iterations found nonce: 118fdef25246e4176a03d11fb98327198ca298c4bb067ebf4ffadf73eb38465a\n",
      "after 976 iterations found nonce: 114d7af9cc0fa270b376905c62455e9201a826f5df684b568697c82c853eab2f\n"
     ]
    },
    {
     "data": {
      "text/plain": [
       "'e1df22dfa7a42b6f6c754206a01152fd3d3c3bebccb5f313842f857b1d567eef'"
      ]
     },
     "execution_count": 81,
     "metadata": {},
     "output_type": "execute_result"
    }
   ],
   "source": [
    "mine(\"hello\",2)"
   ]
  },
  {
   "cell_type": "code",
   "execution_count": null,
   "id": "1c297e1d",
   "metadata": {},
   "outputs": [],
   "source": []
  }
 ],
 "metadata": {
  "kernelspec": {
   "display_name": "Python 3 (ipykernel)",
   "language": "python",
   "name": "python3"
  },
  "language_info": {
   "codemirror_mode": {
    "name": "ipython",
    "version": 3
   },
   "file_extension": ".py",
   "mimetype": "text/x-python",
   "name": "python",
   "nbconvert_exporter": "python",
   "pygments_lexer": "ipython3",
   "version": "3.9.7"
  }
 },
 "nbformat": 4,
 "nbformat_minor": 5
}
