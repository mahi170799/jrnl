{
  "nbformat": 4,
  "nbformat_minor": 0,
  "metadata": {
    "colab": {
      "name": "Nlp2.ipynb",
      "provenance": [],
      "collapsed_sections": []
    },
    "kernelspec": {
      "name": "python3",
      "display_name": "Python 3"
    },
    "language_info": {
      "name": "python"
    }
  },
  "cells": [
    {
      "cell_type": "markdown",
      "source": [
        "Practical 2a Study of Browm corpus with various methods like fields,words,sent etc"
      ],
      "metadata": {
        "id": "K1Ce5toSW3Hh"
      }
    },
    {
      "cell_type": "code",
      "source": [
        "import nltk"
      ],
      "metadata": {
        "id": "wHnan_Vx6IBh"
      },
      "execution_count": null,
      "outputs": []
    },
    {
      "cell_type": "code",
      "source": [
        "from nltk.corpus import brown"
      ],
      "metadata": {
        "id": "RqthZ3WQ6MGH"
      },
      "execution_count": null,
      "outputs": []
    },
    {
      "cell_type": "code",
      "source": [
        "nltk.download('brown')"
      ],
      "metadata": {
        "colab": {
          "base_uri": "https://localhost:8080/"
        },
        "id": "Y8hP1_wP7g0R",
        "outputId": "bedbb314-4710-4250-eff8-d12d8717e0d4"
      },
      "execution_count": null,
      "outputs": [
        {
          "output_type": "stream",
          "name": "stdout",
          "text": [
            "[nltk_data] Downloading package brown to /root/nltk_data...\n",
            "[nltk_data]   Unzipping corpora/brown.zip.\n"
          ]
        },
        {
          "output_type": "execute_result",
          "data": {
            "text/plain": [
              "True"
            ]
          },
          "metadata": {},
          "execution_count": 3
        }
      ]
    },
    {
      "cell_type": "code",
      "source": [
        "print(brown.fileids())"
      ],
      "metadata": {
        "colab": {
          "base_uri": "https://localhost:8080/"
        },
        "id": "tbXdUzU86PgB",
        "outputId": "476b26ab-a791-4a55-8e15-73dcc06c8719"
      },
      "execution_count": null,
      "outputs": [
        {
          "output_type": "stream",
          "name": "stdout",
          "text": [
            "['ca01', 'ca02', 'ca03', 'ca04', 'ca05', 'ca06', 'ca07', 'ca08', 'ca09', 'ca10', 'ca11', 'ca12', 'ca13', 'ca14', 'ca15', 'ca16', 'ca17', 'ca18', 'ca19', 'ca20', 'ca21', 'ca22', 'ca23', 'ca24', 'ca25', 'ca26', 'ca27', 'ca28', 'ca29', 'ca30', 'ca31', 'ca32', 'ca33', 'ca34', 'ca35', 'ca36', 'ca37', 'ca38', 'ca39', 'ca40', 'ca41', 'ca42', 'ca43', 'ca44', 'cb01', 'cb02', 'cb03', 'cb04', 'cb05', 'cb06', 'cb07', 'cb08', 'cb09', 'cb10', 'cb11', 'cb12', 'cb13', 'cb14', 'cb15', 'cb16', 'cb17', 'cb18', 'cb19', 'cb20', 'cb21', 'cb22', 'cb23', 'cb24', 'cb25', 'cb26', 'cb27', 'cc01', 'cc02', 'cc03', 'cc04', 'cc05', 'cc06', 'cc07', 'cc08', 'cc09', 'cc10', 'cc11', 'cc12', 'cc13', 'cc14', 'cc15', 'cc16', 'cc17', 'cd01', 'cd02', 'cd03', 'cd04', 'cd05', 'cd06', 'cd07', 'cd08', 'cd09', 'cd10', 'cd11', 'cd12', 'cd13', 'cd14', 'cd15', 'cd16', 'cd17', 'ce01', 'ce02', 'ce03', 'ce04', 'ce05', 'ce06', 'ce07', 'ce08', 'ce09', 'ce10', 'ce11', 'ce12', 'ce13', 'ce14', 'ce15', 'ce16', 'ce17', 'ce18', 'ce19', 'ce20', 'ce21', 'ce22', 'ce23', 'ce24', 'ce25', 'ce26', 'ce27', 'ce28', 'ce29', 'ce30', 'ce31', 'ce32', 'ce33', 'ce34', 'ce35', 'ce36', 'cf01', 'cf02', 'cf03', 'cf04', 'cf05', 'cf06', 'cf07', 'cf08', 'cf09', 'cf10', 'cf11', 'cf12', 'cf13', 'cf14', 'cf15', 'cf16', 'cf17', 'cf18', 'cf19', 'cf20', 'cf21', 'cf22', 'cf23', 'cf24', 'cf25', 'cf26', 'cf27', 'cf28', 'cf29', 'cf30', 'cf31', 'cf32', 'cf33', 'cf34', 'cf35', 'cf36', 'cf37', 'cf38', 'cf39', 'cf40', 'cf41', 'cf42', 'cf43', 'cf44', 'cf45', 'cf46', 'cf47', 'cf48', 'cg01', 'cg02', 'cg03', 'cg04', 'cg05', 'cg06', 'cg07', 'cg08', 'cg09', 'cg10', 'cg11', 'cg12', 'cg13', 'cg14', 'cg15', 'cg16', 'cg17', 'cg18', 'cg19', 'cg20', 'cg21', 'cg22', 'cg23', 'cg24', 'cg25', 'cg26', 'cg27', 'cg28', 'cg29', 'cg30', 'cg31', 'cg32', 'cg33', 'cg34', 'cg35', 'cg36', 'cg37', 'cg38', 'cg39', 'cg40', 'cg41', 'cg42', 'cg43', 'cg44', 'cg45', 'cg46', 'cg47', 'cg48', 'cg49', 'cg50', 'cg51', 'cg52', 'cg53', 'cg54', 'cg55', 'cg56', 'cg57', 'cg58', 'cg59', 'cg60', 'cg61', 'cg62', 'cg63', 'cg64', 'cg65', 'cg66', 'cg67', 'cg68', 'cg69', 'cg70', 'cg71', 'cg72', 'cg73', 'cg74', 'cg75', 'ch01', 'ch02', 'ch03', 'ch04', 'ch05', 'ch06', 'ch07', 'ch08', 'ch09', 'ch10', 'ch11', 'ch12', 'ch13', 'ch14', 'ch15', 'ch16', 'ch17', 'ch18', 'ch19', 'ch20', 'ch21', 'ch22', 'ch23', 'ch24', 'ch25', 'ch26', 'ch27', 'ch28', 'ch29', 'ch30', 'cj01', 'cj02', 'cj03', 'cj04', 'cj05', 'cj06', 'cj07', 'cj08', 'cj09', 'cj10', 'cj11', 'cj12', 'cj13', 'cj14', 'cj15', 'cj16', 'cj17', 'cj18', 'cj19', 'cj20', 'cj21', 'cj22', 'cj23', 'cj24', 'cj25', 'cj26', 'cj27', 'cj28', 'cj29', 'cj30', 'cj31', 'cj32', 'cj33', 'cj34', 'cj35', 'cj36', 'cj37', 'cj38', 'cj39', 'cj40', 'cj41', 'cj42', 'cj43', 'cj44', 'cj45', 'cj46', 'cj47', 'cj48', 'cj49', 'cj50', 'cj51', 'cj52', 'cj53', 'cj54', 'cj55', 'cj56', 'cj57', 'cj58', 'cj59', 'cj60', 'cj61', 'cj62', 'cj63', 'cj64', 'cj65', 'cj66', 'cj67', 'cj68', 'cj69', 'cj70', 'cj71', 'cj72', 'cj73', 'cj74', 'cj75', 'cj76', 'cj77', 'cj78', 'cj79', 'cj80', 'ck01', 'ck02', 'ck03', 'ck04', 'ck05', 'ck06', 'ck07', 'ck08', 'ck09', 'ck10', 'ck11', 'ck12', 'ck13', 'ck14', 'ck15', 'ck16', 'ck17', 'ck18', 'ck19', 'ck20', 'ck21', 'ck22', 'ck23', 'ck24', 'ck25', 'ck26', 'ck27', 'ck28', 'ck29', 'cl01', 'cl02', 'cl03', 'cl04', 'cl05', 'cl06', 'cl07', 'cl08', 'cl09', 'cl10', 'cl11', 'cl12', 'cl13', 'cl14', 'cl15', 'cl16', 'cl17', 'cl18', 'cl19', 'cl20', 'cl21', 'cl22', 'cl23', 'cl24', 'cm01', 'cm02', 'cm03', 'cm04', 'cm05', 'cm06', 'cn01', 'cn02', 'cn03', 'cn04', 'cn05', 'cn06', 'cn07', 'cn08', 'cn09', 'cn10', 'cn11', 'cn12', 'cn13', 'cn14', 'cn15', 'cn16', 'cn17', 'cn18', 'cn19', 'cn20', 'cn21', 'cn22', 'cn23', 'cn24', 'cn25', 'cn26', 'cn27', 'cn28', 'cn29', 'cp01', 'cp02', 'cp03', 'cp04', 'cp05', 'cp06', 'cp07', 'cp08', 'cp09', 'cp10', 'cp11', 'cp12', 'cp13', 'cp14', 'cp15', 'cp16', 'cp17', 'cp18', 'cp19', 'cp20', 'cp21', 'cp22', 'cp23', 'cp24', 'cp25', 'cp26', 'cp27', 'cp28', 'cp29', 'cr01', 'cr02', 'cr03', 'cr04', 'cr05', 'cr06', 'cr07', 'cr08', 'cr09']\n"
          ]
        }
      ]
    },
    {
      "cell_type": "code",
      "source": [
        "ca01=brown.words('ca01')"
      ],
      "metadata": {
        "id": "8kW5cF1H75KQ"
      },
      "execution_count": null,
      "outputs": []
    },
    {
      "cell_type": "code",
      "source": [
        "print(ca01)"
      ],
      "metadata": {
        "colab": {
          "base_uri": "https://localhost:8080/"
        },
        "id": "f5b6v4WB8EX1",
        "outputId": "0c05f50f-4ac8-4537-b4ea-eb2a040acc6c"
      },
      "execution_count": null,
      "outputs": [
        {
          "output_type": "stream",
          "name": "stdout",
          "text": [
            "['The', 'Fulton', 'County', 'Grand', 'Jury', 'said', ...]\n"
          ]
        }
      ]
    },
    {
      "cell_type": "code",
      "source": [
        "print(len(ca01))"
      ],
      "metadata": {
        "colab": {
          "base_uri": "https://localhost:8080/"
        },
        "id": "VDpUuiTH8Kl4",
        "outputId": "4ad1a0bf-0576-4795-83b8-fde1f7e05236"
      },
      "execution_count": null,
      "outputs": [
        {
          "output_type": "stream",
          "name": "stdout",
          "text": [
            "2242\n"
          ]
        }
      ]
    },
    {
      "cell_type": "code",
      "source": [
        "cr07=brown.words('cr07')"
      ],
      "metadata": {
        "id": "jxLDtnDZ8Yyx"
      },
      "execution_count": null,
      "outputs": []
    },
    {
      "cell_type": "code",
      "source": [
        "print(cr07)"
      ],
      "metadata": {
        "colab": {
          "base_uri": "https://localhost:8080/"
        },
        "id": "8pgWD0QF8iwA",
        "outputId": "8a47608a-4a19-41c5-fc6f-0b74b739771c"
      },
      "execution_count": null,
      "outputs": [
        {
          "output_type": "stream",
          "name": "stdout",
          "text": [
            "['One', 'day', ',', 'the', 'children', 'had', 'wanted', ...]\n"
          ]
        }
      ]
    },
    {
      "cell_type": "code",
      "source": [
        "print(len(cr07))"
      ],
      "metadata": {
        "colab": {
          "base_uri": "https://localhost:8080/"
        },
        "id": "y0Cs0t6G8nRG",
        "outputId": "4d5a8c47-0dba-4bb7-c4a3-79a565a39d6d"
      },
      "execution_count": null,
      "outputs": [
        {
          "output_type": "stream",
          "name": "stdout",
          "text": [
            "2456\n"
          ]
        }
      ]
    },
    {
      "cell_type": "code",
      "source": [
        "print(brown.categories())"
      ],
      "metadata": {
        "colab": {
          "base_uri": "https://localhost:8080/"
        },
        "id": "A4UxsiLP86Rz",
        "outputId": "6a0510cb-c320-4c91-c204-b1d41ac9df3d"
      },
      "execution_count": null,
      "outputs": [
        {
          "output_type": "stream",
          "name": "stdout",
          "text": [
            "['adventure', 'belles_lettres', 'editorial', 'fiction', 'government', 'hobbies', 'humor', 'learned', 'lore', 'mystery', 'news', 'religion', 'reviews', 'romance', 'science_fiction']\n"
          ]
        }
      ]
    },
    {
      "cell_type": "code",
      "source": [
        "for fileid in brown.fileids():\n",
        "  num_chars=len(brown.raw(fileid))\n",
        "  num_words=len(brown.words(fileid))\n",
        "  num_sents=len(brown.sents(fileid))\n",
        "  print(fileid,'\\t\\t',num_chars,'\\t\\t',num_words,'\\t\\t',num_sents)"
      ],
      "metadata": {
        "id": "XLpaV1Ce9Fca",
        "colab": {
          "base_uri": "https://localhost:8080/"
        },
        "outputId": "4ea9a395-0bca-4df3-8b9c-2596148c0aaa"
      },
      "execution_count": null,
      "outputs": [
        {
          "output_type": "stream",
          "name": "stdout",
          "text": [
            "ca01 \t\t 20187 \t\t 2242 \t\t 98\n",
            "ca02 \t\t 20357 \t\t 2277 \t\t 98\n",
            "ca03 \t\t 20214 \t\t 2275 \t\t 112\n",
            "ca04 \t\t 20608 \t\t 2217 \t\t 88\n",
            "ca05 \t\t 19748 \t\t 2244 \t\t 84\n",
            "ca06 \t\t 20137 \t\t 2263 \t\t 99\n",
            "ca07 \t\t 20921 \t\t 2270 \t\t 120\n",
            "ca08 \t\t 19599 \t\t 2187 \t\t 101\n",
            "ca09 \t\t 20331 \t\t 2234 \t\t 113\n",
            "ca10 \t\t 20128 \t\t 2282 \t\t 106\n",
            "ca11 \t\t 19728 \t\t 2259 \t\t 100\n",
            "ca12 \t\t 19633 \t\t 2338 \t\t 104\n",
            "ca13 \t\t 19059 \t\t 2241 \t\t 108\n",
            "ca14 \t\t 20309 \t\t 2329 \t\t 133\n",
            "ca15 \t\t 19629 \t\t 2314 \t\t 110\n",
            "ca16 \t\t 20140 \t\t 2374 \t\t 116\n",
            "ca17 \t\t 19472 \t\t 2293 \t\t 104\n",
            "ca18 \t\t 19701 \t\t 2314 \t\t 105\n",
            "ca19 \t\t 20266 \t\t 2260 \t\t 113\n",
            "ca20 \t\t 20209 \t\t 2317 \t\t 97\n",
            "ca21 \t\t 20348 \t\t 2245 \t\t 112\n",
            "ca22 \t\t 20605 \t\t 2309 \t\t 106\n",
            "ca23 \t\t 20553 \t\t 2327 \t\t 113\n",
            "ca24 \t\t 20057 \t\t 2252 \t\t 100\n",
            "ca25 \t\t 20543 \t\t 2327 \t\t 107\n",
            "ca26 \t\t 19922 \t\t 2278 \t\t 107\n",
            "ca27 \t\t 20538 \t\t 2288 \t\t 115\n",
            "ca28 \t\t 19625 \t\t 2220 \t\t 93\n",
            "ca29 \t\t 20596 \t\t 2349 \t\t 119\n",
            "ca30 \t\t 19360 \t\t 2274 \t\t 118\n",
            "ca31 \t\t 20387 \t\t 2311 \t\t 113\n",
            "ca32 \t\t 20039 \t\t 2323 \t\t 124\n",
            "ca33 \t\t 20361 \t\t 2284 \t\t 93\n",
            "ca34 \t\t 19978 \t\t 2235 \t\t 94\n",
            "ca35 \t\t 19924 \t\t 2217 \t\t 74\n",
            "ca36 \t\t 20129 \t\t 2229 \t\t 86\n",
            "ca37 \t\t 20853 \t\t 2324 \t\t 95\n",
            "ca38 \t\t 18552 \t\t 2221 \t\t 95\n",
            "ca39 \t\t 19998 \t\t 2452 \t\t 126\n",
            "ca40 \t\t 20317 \t\t 2340 \t\t 96\n",
            "ca41 \t\t 20258 \t\t 2313 \t\t 103\n",
            "ca42 \t\t 20071 \t\t 2338 \t\t 104\n",
            "ca43 \t\t 20192 \t\t 2291 \t\t 129\n",
            "ca44 \t\t 20024 \t\t 2277 \t\t 92\n",
            "cb01 \t\t 20173 \t\t 2200 \t\t 103\n",
            "cb02 \t\t 20167 \t\t 2234 \t\t 95\n",
            "cb03 \t\t 19389 \t\t 2244 \t\t 96\n",
            "cb04 \t\t 19808 \t\t 2230 \t\t 117\n",
            "cb05 \t\t 20042 \t\t 2241 \t\t 105\n",
            "cb06 \t\t 20379 \t\t 2231 \t\t 99\n",
            "cb07 \t\t 20181 \t\t 2239 \t\t 92\n",
            "cb08 \t\t 19224 \t\t 2395 \t\t 128\n",
            "cb09 \t\t 19532 \t\t 2312 \t\t 125\n",
            "cb10 \t\t 19232 \t\t 2298 \t\t 136\n",
            "cb11 \t\t 20819 \t\t 2293 \t\t 110\n",
            "cb12 \t\t 19948 \t\t 2296 \t\t 105\n",
            "cb13 \t\t 19613 \t\t 2267 \t\t 143\n",
            "cb14 \t\t 19397 \t\t 2264 \t\t 119\n",
            "cb15 \t\t 20415 \t\t 2311 \t\t 102\n",
            "cb16 \t\t 20135 \t\t 2260 \t\t 120\n",
            "cb17 \t\t 19744 \t\t 2288 \t\t 126\n",
            "cb18 \t\t 19952 \t\t 2194 \t\t 115\n",
            "cb19 \t\t 20062 \t\t 2287 \t\t 138\n",
            "cb20 \t\t 19830 \t\t 2299 \t\t 110\n",
            "cb21 \t\t 19658 \t\t 2278 \t\t 78\n",
            "cb22 \t\t 20633 \t\t 2294 \t\t 94\n",
            "cb23 \t\t 19934 \t\t 2357 \t\t 133\n",
            "cb24 \t\t 20237 \t\t 2346 \t\t 109\n",
            "cb25 \t\t 20333 \t\t 2368 \t\t 79\n",
            "cb26 \t\t 20105 \t\t 2316 \t\t 112\n",
            "cb27 \t\t 19753 \t\t 2262 \t\t 108\n",
            "cc01 \t\t 20860 \t\t 2415 \t\t 116\n",
            "cc02 \t\t 20385 \t\t 2320 \t\t 99\n",
            "cc03 \t\t 20663 \t\t 2356 \t\t 114\n",
            "cc04 \t\t 20039 \t\t 2342 \t\t 102\n",
            "cc05 \t\t 20501 \t\t 2398 \t\t 105\n",
            "cc06 \t\t 20923 \t\t 2433 \t\t 83\n",
            "cc07 \t\t 21284 \t\t 2421 \t\t 120\n",
            "cc08 \t\t 20228 \t\t 2351 \t\t 91\n",
            "cc09 \t\t 20504 \t\t 2345 \t\t 90\n",
            "cc10 \t\t 20932 \t\t 2461 \t\t 110\n",
            "cc11 \t\t 21592 \t\t 2480 \t\t 109\n",
            "cc12 \t\t 20845 \t\t 2342 \t\t 92\n",
            "cc13 \t\t 19968 \t\t 2282 \t\t 94\n",
            "cc14 \t\t 22531 \t\t 2574 \t\t 102\n",
            "cc15 \t\t 21983 \t\t 2503 \t\t 127\n",
            "cc16 \t\t 19890 \t\t 2311 \t\t 96\n",
            "cc17 \t\t 20657 \t\t 2370 \t\t 101\n",
            "cd01 \t\t 18752 \t\t 2213 \t\t 84\n",
            "cd02 \t\t 20014 \t\t 2334 \t\t 67\n",
            "cd03 \t\t 20801 \t\t 2332 \t\t 84\n",
            "cd04 \t\t 18954 \t\t 2318 \t\t 96\n",
            "cd05 \t\t 20920 \t\t 2410 \t\t 71\n",
            "cd06 \t\t 19013 \t\t 2317 \t\t 88\n",
            "cd07 \t\t 18957 \t\t 2359 \t\t 122\n",
            "cd08 \t\t 19966 \t\t 2332 \t\t 72\n",
            "cd09 \t\t 20804 \t\t 2314 \t\t 170\n",
            "cd10 \t\t 20244 \t\t 2238 \t\t 96\n",
            "cd11 \t\t 19407 \t\t 2304 \t\t 67\n",
            "cd12 \t\t 20916 \t\t 2307 \t\t 81\n",
            "cd13 \t\t 18245 \t\t 2236 \t\t 104\n",
            "cd14 \t\t 20533 \t\t 2276 \t\t 93\n",
            "cd15 \t\t 20050 \t\t 2315 \t\t 99\n",
            "cd16 \t\t 20125 \t\t 2451 \t\t 171\n",
            "cd17 \t\t 19683 \t\t 2343 \t\t 151\n",
            "ce01 \t\t 19897 \t\t 2258 \t\t 104\n",
            "ce02 \t\t 18913 \t\t 2279 \t\t 124\n",
            "ce03 \t\t 19827 \t\t 2257 \t\t 99\n",
            "ce04 \t\t 20449 \t\t 2295 \t\t 96\n",
            "ce05 \t\t 20136 \t\t 2271 \t\t 112\n",
            "ce06 \t\t 19431 \t\t 2222 \t\t 94\n",
            "ce07 \t\t 19470 \t\t 2370 \t\t 132\n",
            "ce08 \t\t 19241 \t\t 2226 \t\t 130\n",
            "ce09 \t\t 20185 \t\t 2476 \t\t 142\n",
            "ce10 \t\t 20398 \t\t 2402 \t\t 131\n",
            "ce11 \t\t 19370 \t\t 2333 \t\t 113\n",
            "ce12 \t\t 20638 \t\t 2288 \t\t 121\n",
            "ce13 \t\t 19327 \t\t 2261 \t\t 75\n",
            "ce14 \t\t 19649 \t\t 2346 \t\t 168\n",
            "ce15 \t\t 19223 \t\t 2333 \t\t 199\n",
            "ce16 \t\t 18532 \t\t 2223 \t\t 130\n",
            "ce17 \t\t 18713 \t\t 2244 \t\t 110\n",
            "ce18 \t\t 19827 \t\t 2302 \t\t 83\n",
            "ce19 \t\t 18972 \t\t 2260 \t\t 108\n",
            "ce20 \t\t 19150 \t\t 2251 \t\t 123\n",
            "ce21 \t\t 18953 \t\t 2239 \t\t 112\n",
            "ce22 \t\t 21270 \t\t 2402 \t\t 107\n",
            "ce23 \t\t 19563 \t\t 2307 \t\t 89\n",
            "ce24 \t\t 18993 \t\t 2253 \t\t 124\n",
            "ce25 \t\t 20155 \t\t 2227 \t\t 93\n",
            "ce26 \t\t 19858 \t\t 2243 \t\t 90\n",
            "ce27 \t\t 20585 \t\t 2323 \t\t 187\n",
            "ce28 \t\t 21013 \t\t 2291 \t\t 125\n",
            "ce29 \t\t 20190 \t\t 2246 \t\t 89\n",
            "ce30 \t\t 20723 \t\t 2294 \t\t 152\n",
            "ce31 \t\t 20400 \t\t 2247 \t\t 103\n",
            "ce32 \t\t 21245 \t\t 2339 \t\t 119\n",
            "ce33 \t\t 19217 \t\t 2233 \t\t 113\n",
            "ce34 \t\t 20492 \t\t 2300 \t\t 109\n",
            "ce35 \t\t 19466 \t\t 2272 \t\t 112\n",
            "ce36 \t\t 18972 \t\t 2232 \t\t 75\n",
            "cf01 \t\t 20467 \t\t 2369 \t\t 73\n",
            "cf02 \t\t 19377 \t\t 2264 \t\t 124\n",
            "cf03 \t\t 19837 \t\t 2256 \t\t 75\n",
            "cf04 \t\t 19460 \t\t 2258 \t\t 124\n",
            "cf05 \t\t 19488 \t\t 2250 \t\t 89\n",
            "cf06 \t\t 19471 \t\t 2424 \t\t 166\n",
            "cf07 \t\t 19352 \t\t 2205 \t\t 91\n",
            "cf08 \t\t 20262 \t\t 2356 \t\t 113\n",
            "cf09 \t\t 19473 \t\t 2306 \t\t 132\n",
            "cf10 \t\t 19955 \t\t 2332 \t\t 102\n",
            "cf11 \t\t 19853 \t\t 2310 \t\t 117\n",
            "cf12 \t\t 19727 \t\t 2361 \t\t 96\n",
            "cf13 \t\t 19292 \t\t 2316 \t\t 138\n",
            "cf14 \t\t 20043 \t\t 2285 \t\t 70\n",
            "cf15 \t\t 20264 \t\t 2236 \t\t 82\n",
            "cf16 \t\t 19627 \t\t 2331 \t\t 123\n",
            "cf17 \t\t 19655 \t\t 2236 \t\t 74\n",
            "cf18 \t\t 19355 \t\t 2328 \t\t 101\n",
            "cf19 \t\t 20448 \t\t 2321 \t\t 88\n",
            "cf20 \t\t 19863 \t\t 2278 \t\t 90\n",
            "cf21 \t\t 19133 \t\t 2212 \t\t 107\n",
            "cf22 \t\t 20757 \t\t 2431 \t\t 116\n",
            "cf23 \t\t 20175 \t\t 2299 \t\t 101\n",
            "cf24 \t\t 20045 \t\t 2384 \t\t 148\n",
            "cf25 \t\t 20367 \t\t 2313 \t\t 109\n",
            "cf26 \t\t 18482 \t\t 2258 \t\t 122\n",
            "cf27 \t\t 18884 \t\t 2288 \t\t 85\n",
            "cf28 \t\t 19673 \t\t 2267 \t\t 96\n",
            "cf29 \t\t 20649 \t\t 2302 \t\t 98\n",
            "cf30 \t\t 19752 \t\t 2259 \t\t 95\n",
            "cf31 \t\t 18859 \t\t 2220 \t\t 105\n",
            "cf32 \t\t 19554 \t\t 2322 \t\t 112\n",
            "cf33 \t\t 19205 \t\t 2219 \t\t 90\n",
            "cf34 \t\t 19911 \t\t 2300 \t\t 114\n",
            "cf35 \t\t 20018 \t\t 2439 \t\t 99\n",
            "cf36 \t\t 18980 \t\t 2362 \t\t 127\n",
            "cf37 \t\t 19350 \t\t 2222 \t\t 93\n",
            "cf38 \t\t 20262 \t\t 2405 \t\t 60\n",
            "cf39 \t\t 21598 \t\t 2351 \t\t 76\n",
            "cf40 \t\t 20257 \t\t 2250 \t\t 86\n",
            "cf41 \t\t 19286 \t\t 2261 \t\t 99\n",
            "cf42 \t\t 19738 \t\t 2355 \t\t 106\n",
            "cf43 \t\t 19281 \t\t 2288 \t\t 97\n",
            "cf44 \t\t 20562 \t\t 2245 \t\t 96\n",
            "cf45 \t\t 19683 \t\t 2261 \t\t 100\n",
            "cf46 \t\t 20588 \t\t 2267 \t\t 112\n",
            "cf47 \t\t 19095 \t\t 2275 \t\t 107\n",
            "cf48 \t\t 19445 \t\t 2222 \t\t 57\n",
            "cg01 \t\t 20195 \t\t 2289 \t\t 100\n",
            "cg02 \t\t 20827 \t\t 2311 \t\t 90\n",
            "cg03 \t\t 20711 \t\t 2403 \t\t 121\n",
            "cg04 \t\t 19336 \t\t 2359 \t\t 147\n",
            "cg05 \t\t 19585 \t\t 2394 \t\t 96\n",
            "cg06 \t\t 20940 \t\t 2397 \t\t 108\n",
            "cg07 \t\t 20843 \t\t 2308 \t\t 86\n",
            "cg08 \t\t 20546 \t\t 2322 \t\t 88\n",
            "cg09 \t\t 19623 \t\t 2278 \t\t 106\n",
            "cg10 \t\t 20442 \t\t 2301 \t\t 71\n",
            "cg11 \t\t 19559 \t\t 2237 \t\t 92\n",
            "cg12 \t\t 18974 \t\t 2332 \t\t 145\n",
            "cg13 \t\t 19769 \t\t 2311 \t\t 104\n",
            "cg14 \t\t 19208 \t\t 2320 \t\t 97\n",
            "cg15 \t\t 20883 \t\t 2514 \t\t 92\n",
            "cg16 \t\t 19903 \t\t 2226 \t\t 73\n",
            "cg17 \t\t 20934 \t\t 2471 \t\t 112\n",
            "cg18 \t\t 19342 \t\t 2289 \t\t 107\n",
            "cg19 \t\t 19383 \t\t 2259 \t\t 117\n",
            "cg20 \t\t 19816 \t\t 2286 \t\t 88\n",
            "cg21 \t\t 19711 \t\t 2245 \t\t 89\n",
            "cg22 \t\t 20400 \t\t 2291 \t\t 95\n",
            "cg23 \t\t 19881 \t\t 2316 \t\t 126\n",
            "cg24 \t\t 19533 \t\t 2211 \t\t 73\n",
            "cg25 \t\t 19759 \t\t 2255 \t\t 105\n",
            "cg26 \t\t 18866 \t\t 2195 \t\t 85\n",
            "cg27 \t\t 20013 \t\t 2359 \t\t 102\n",
            "cg28 \t\t 19574 \t\t 2211 \t\t 64\n",
            "cg29 \t\t 19459 \t\t 2240 \t\t 79\n",
            "cg30 \t\t 20867 \t\t 2328 \t\t 121\n",
            "cg31 \t\t 19733 \t\t 2299 \t\t 71\n",
            "cg32 \t\t 19315 \t\t 2314 \t\t 101\n",
            "cg33 \t\t 19199 \t\t 2335 \t\t 74\n",
            "cg34 \t\t 20081 \t\t 2351 \t\t 123\n",
            "cg35 \t\t 20415 \t\t 2285 \t\t 100\n",
            "cg36 \t\t 20273 \t\t 2386 \t\t 146\n",
            "cg37 \t\t 19411 \t\t 2275 \t\t 113\n",
            "cg38 \t\t 20043 \t\t 2317 \t\t 75\n",
            "cg39 \t\t 20617 \t\t 2436 \t\t 100\n",
            "cg40 \t\t 19348 \t\t 2318 \t\t 119\n",
            "cg41 \t\t 18791 \t\t 2276 \t\t 109\n",
            "cg42 \t\t 20272 \t\t 2221 \t\t 100\n",
            "cg43 \t\t 19461 \t\t 2293 \t\t 79\n",
            "cg44 \t\t 19727 \t\t 2238 \t\t 72\n",
            "cg45 \t\t 20094 \t\t 2357 \t\t 102\n",
            "cg46 \t\t 20001 \t\t 2214 \t\t 85\n",
            "cg47 \t\t 19999 \t\t 2433 \t\t 135\n",
            "cg48 \t\t 19410 \t\t 2204 \t\t 103\n",
            "cg49 \t\t 20219 \t\t 2415 \t\t 84\n",
            "cg50 \t\t 19949 \t\t 2312 \t\t 102\n",
            "cg51 \t\t 19236 \t\t 2278 \t\t 107\n",
            "cg52 \t\t 19512 \t\t 2277 \t\t 86\n",
            "cg53 \t\t 19716 \t\t 2307 \t\t 102\n",
            "cg54 \t\t 19308 \t\t 2328 \t\t 118\n",
            "cg55 \t\t 19046 \t\t 2266 \t\t 111\n",
            "cg56 \t\t 19267 \t\t 2282 \t\t 87\n",
            "cg57 \t\t 21135 \t\t 2349 \t\t 86\n",
            "cg58 \t\t 19705 \t\t 2286 \t\t 75\n",
            "cg59 \t\t 19964 \t\t 2312 \t\t 50\n",
            "cg60 \t\t 18344 \t\t 2251 \t\t 119\n",
            "cg61 \t\t 20407 \t\t 2267 \t\t 82\n",
            "cg62 \t\t 20454 \t\t 2285 \t\t 82\n",
            "cg63 \t\t 19311 \t\t 2209 \t\t 107\n",
            "cg64 \t\t 19479 \t\t 2347 \t\t 71\n",
            "cg65 \t\t 20092 \t\t 2235 \t\t 91\n",
            "cg66 \t\t 19256 \t\t 2302 \t\t 71\n",
            "cg67 \t\t 19946 \t\t 2389 \t\t 83\n",
            "cg68 \t\t 20181 \t\t 2348 \t\t 80\n",
            "cg69 \t\t 21479 \t\t 2407 \t\t 56\n",
            "cg70 \t\t 18833 \t\t 2262 \t\t 89\n",
            "cg71 \t\t 19709 \t\t 2295 \t\t 74\n",
            "cg72 \t\t 20022 \t\t 2247 \t\t 83\n",
            "cg73 \t\t 20043 \t\t 2334 \t\t 100\n",
            "cg74 \t\t 20735 \t\t 2408 \t\t 99\n",
            "cg75 \t\t 18714 \t\t 2288 \t\t 128\n",
            "ch01 \t\t 22792 \t\t 2416 \t\t 149\n",
            "ch02 \t\t 21792 \t\t 2360 \t\t 116\n",
            "ch03 \t\t 19191 \t\t 2207 \t\t 83\n",
            "ch04 \t\t 21334 \t\t 2316 \t\t 123\n",
            "ch05 \t\t 19865 \t\t 2228 \t\t 83\n",
            "ch06 \t\t 23097 \t\t 2411 \t\t 107\n",
            "ch07 \t\t 21629 \t\t 2436 \t\t 133\n",
            "ch08 \t\t 20891 \t\t 2318 \t\t 81\n",
            "ch09 \t\t 21968 \t\t 2451 \t\t 104\n",
            "ch10 \t\t 22673 \t\t 2313 \t\t 107\n",
            "ch11 \t\t 21107 \t\t 2254 \t\t 101\n",
            "ch12 \t\t 21177 \t\t 2412 \t\t 79\n",
            "ch13 \t\t 21409 \t\t 2408 \t\t 108\n",
            "ch14 \t\t 21458 \t\t 2422 \t\t 112\n",
            "ch15 \t\t 20188 \t\t 2313 \t\t 156\n",
            "ch16 \t\t 21033 \t\t 2346 \t\t 79\n",
            "ch17 \t\t 22282 \t\t 2539 \t\t 106\n",
            "ch18 \t\t 19695 \t\t 2250 \t\t 85\n",
            "ch19 \t\t 20068 \t\t 2194 \t\t 92\n",
            "ch20 \t\t 22248 \t\t 2406 \t\t 107\n",
            "ch21 \t\t 21213 \t\t 2296 \t\t 90\n",
            "ch22 \t\t 23775 \t\t 2559 \t\t 83\n",
            "ch23 \t\t 20539 \t\t 2282 \t\t 70\n",
            "ch24 \t\t 21316 \t\t 2471 \t\t 127\n",
            "ch25 \t\t 20251 \t\t 2305 \t\t 81\n",
            "ch26 \t\t 19906 \t\t 2200 \t\t 70\n",
            "ch27 \t\t 20926 \t\t 2248 \t\t 109\n",
            "ch28 \t\t 21937 \t\t 2317 \t\t 119\n",
            "ch29 \t\t 20294 \t\t 2225 \t\t 73\n",
            "ch30 \t\t 20323 \t\t 2214 \t\t 99\n",
            "cj01 \t\t 19366 \t\t 2189 \t\t 71\n",
            "cj02 \t\t 19097 \t\t 2182 \t\t 111\n",
            "cj03 \t\t 18846 \t\t 2205 \t\t 84\n",
            "cj04 \t\t 20488 \t\t 2334 \t\t 113\n",
            "cj05 \t\t 20788 \t\t 2276 \t\t 95\n",
            "cj06 \t\t 19690 \t\t 2148 \t\t 81\n",
            "cj07 \t\t 20841 \t\t 2370 \t\t 102\n",
            "cj08 \t\t 19936 \t\t 2206 \t\t 113\n",
            "cj09 \t\t 20466 \t\t 2302 \t\t 97\n",
            "cj10 \t\t 18779 \t\t 2262 \t\t 97\n",
            "cj11 \t\t 19500 \t\t 2277 \t\t 102\n",
            "cj12 \t\t 20002 \t\t 2328 \t\t 102\n",
            "cj13 \t\t 19925 \t\t 2294 \t\t 76\n",
            "cj14 \t\t 20694 \t\t 2298 \t\t 108\n",
            "cj15 \t\t 20942 \t\t 2317 \t\t 115\n",
            "cj16 \t\t 20235 \t\t 2258 \t\t 93\n",
            "cj17 \t\t 21898 \t\t 2291 \t\t 86\n",
            "cj18 \t\t 18227 \t\t 2290 \t\t 126\n",
            "cj19 \t\t 19643 \t\t 2333 \t\t 127\n",
            "cj20 \t\t 17943 \t\t 2211 \t\t 108\n",
            "cj21 \t\t 17926 \t\t 2229 \t\t 78\n",
            "cj22 \t\t 20278 \t\t 2185 \t\t 86\n",
            "cj23 \t\t 20739 \t\t 2337 \t\t 110\n",
            "cj24 \t\t 20336 \t\t 2223 \t\t 65\n",
            "cj25 \t\t 20757 \t\t 2292 \t\t 120\n",
            "cj26 \t\t 21223 \t\t 2299 \t\t 100\n",
            "cj27 \t\t 19543 \t\t 2257 \t\t 95\n",
            "cj28 \t\t 20577 \t\t 2243 \t\t 88\n",
            "cj29 \t\t 20830 \t\t 2230 \t\t 96\n",
            "cj30 \t\t 19795 \t\t 2267 \t\t 104\n",
            "cj31 \t\t 19814 \t\t 2335 \t\t 61\n",
            "cj32 \t\t 18725 \t\t 2170 \t\t 99\n",
            "cj33 \t\t 20467 \t\t 2241 \t\t 97\n",
            "cj34 \t\t 19913 \t\t 2208 \t\t 103\n",
            "cj35 \t\t 20427 \t\t 2401 \t\t 104\n",
            "cj36 \t\t 20029 \t\t 2262 \t\t 82\n",
            "cj37 \t\t 20556 \t\t 2186 \t\t 83\n",
            "cj38 \t\t 20249 \t\t 2174 \t\t 95\n",
            "cj39 \t\t 20129 \t\t 2339 \t\t 95\n",
            "cj40 \t\t 19353 \t\t 2171 \t\t 70\n",
            "cj41 \t\t 19659 \t\t 2250 \t\t 84\n",
            "cj42 \t\t 20605 \t\t 2304 \t\t 91\n",
            "cj43 \t\t 20241 \t\t 2250 \t\t 95\n",
            "cj44 \t\t 20214 \t\t 2238 \t\t 78\n",
            "cj45 \t\t 20218 \t\t 2214 \t\t 108\n",
            "cj46 \t\t 20235 \t\t 2266 \t\t 90\n",
            "cj47 \t\t 20273 \t\t 2260 \t\t 115\n",
            "cj48 \t\t 20693 \t\t 2301 \t\t 114\n",
            "cj49 \t\t 20342 \t\t 2189 \t\t 81\n",
            "cj50 \t\t 20472 \t\t 2319 \t\t 70\n",
            "cj51 \t\t 20292 \t\t 2257 \t\t 100\n",
            "cj52 \t\t 18437 \t\t 2255 \t\t 96\n",
            "cj53 \t\t 19580 \t\t 2327 \t\t 71\n",
            "cj54 \t\t 19753 \t\t 2255 \t\t 97\n",
            "cj55 \t\t 18912 \t\t 2222 \t\t 86\n",
            "cj56 \t\t 20370 \t\t 2264 \t\t 100\n",
            "cj57 \t\t 19378 \t\t 2239 \t\t 87\n",
            "cj58 \t\t 20117 \t\t 2267 \t\t 82\n",
            "cj59 \t\t 19510 \t\t 2270 \t\t 72\n",
            "cj60 \t\t 20110 \t\t 2276 \t\t 79\n",
            "cj61 \t\t 19695 \t\t 2331 \t\t 89\n",
            "cj62 \t\t 19180 \t\t 2206 \t\t 85\n",
            "cj63 \t\t 20029 \t\t 2299 \t\t 88\n",
            "cj64 \t\t 19532 \t\t 2291 \t\t 112\n",
            "cj65 \t\t 19714 \t\t 2386 \t\t 82\n",
            "cj66 \t\t 19767 \t\t 2313 \t\t 113\n",
            "cj67 \t\t 19533 \t\t 2210 \t\t 78\n",
            "cj68 \t\t 19908 \t\t 2302 \t\t 57\n",
            "cj69 \t\t 19990 \t\t 2281 \t\t 102\n",
            "cj70 \t\t 19577 \t\t 2187 \t\t 118\n",
            "cj71 \t\t 21036 \t\t 2296 \t\t 126\n",
            "cj72 \t\t 22043 \t\t 2372 \t\t 112\n",
            "cj73 \t\t 23106 \t\t 2486 \t\t 185\n",
            "cj74 \t\t 21355 \t\t 2306 \t\t 108\n",
            "cj75 \t\t 19391 \t\t 2242 \t\t 92\n",
            "cj76 \t\t 20924 \t\t 2341 \t\t 98\n",
            "cj77 \t\t 22737 \t\t 2525 \t\t 122\n",
            "cj78 \t\t 21236 \t\t 2371 \t\t 120\n",
            "cj79 \t\t 18647 \t\t 2246 \t\t 97\n",
            "cj80 \t\t 20055 \t\t 2254 \t\t 116\n",
            "ck01 \t\t 19851 \t\t 2440 \t\t 172\n",
            "ck02 \t\t 19183 \t\t 2325 \t\t 141\n",
            "ck03 \t\t 18714 \t\t 2296 \t\t 137\n",
            "ck04 \t\t 19292 \t\t 2310 \t\t 129\n",
            "ck05 \t\t 18860 \t\t 2345 \t\t 174\n",
            "ck06 \t\t 20724 \t\t 2527 \t\t 205\n",
            "ck07 \t\t 19143 \t\t 2443 \t\t 240\n",
            "ck08 \t\t 19488 \t\t 2375 \t\t 142\n",
            "ck09 \t\t 18425 \t\t 2281 \t\t 93\n",
            "ck10 \t\t 19691 \t\t 2396 \t\t 156\n",
            "ck11 \t\t 18972 \t\t 2399 \t\t 152\n",
            "ck12 \t\t 20157 \t\t 2425 \t\t 139\n",
            "ck13 \t\t 19290 \t\t 2364 \t\t 139\n",
            "ck14 \t\t 19537 \t\t 2340 \t\t 140\n",
            "ck15 \t\t 19502 \t\t 2330 \t\t 127\n",
            "ck16 \t\t 19328 \t\t 2319 \t\t 127\n",
            "ck17 \t\t 19618 \t\t 2380 \t\t 187\n",
            "ck18 \t\t 18475 \t\t 2218 \t\t 151\n",
            "ck19 \t\t 19229 \t\t 2345 \t\t 118\n",
            "ck20 \t\t 19682 \t\t 2378 \t\t 138\n",
            "ck21 \t\t 19246 \t\t 2376 \t\t 207\n",
            "ck22 \t\t 19478 \t\t 2404 \t\t 134\n",
            "ck23 \t\t 19308 \t\t 2319 \t\t 110\n",
            "ck24 \t\t 19086 \t\t 2419 \t\t 220\n",
            "ck25 \t\t 18547 \t\t 2230 \t\t 67\n",
            "ck26 \t\t 19138 \t\t 2404 \t\t 136\n",
            "ck27 \t\t 19523 \t\t 2319 \t\t 96\n",
            "ck28 \t\t 19652 \t\t 2517 \t\t 187\n",
            "ck29 \t\t 19004 \t\t 2264 \t\t 85\n",
            "cl01 \t\t 19251 \t\t 2374 \t\t 150\n",
            "cl02 \t\t 19233 \t\t 2370 \t\t 147\n",
            "cl03 \t\t 19359 \t\t 2428 \t\t 189\n",
            "cl04 \t\t 18671 \t\t 2285 \t\t 168\n",
            "cl05 \t\t 19402 \t\t 2371 \t\t 151\n",
            "cl06 \t\t 18363 \t\t 2288 \t\t 144\n",
            "cl07 \t\t 19290 \t\t 2331 \t\t 144\n",
            "cl08 \t\t 19584 \t\t 2489 \t\t 143\n",
            "cl09 \t\t 19418 \t\t 2393 \t\t 162\n",
            "cl10 \t\t 19717 \t\t 2391 \t\t 180\n",
            "cl11 \t\t 19307 \t\t 2341 \t\t 147\n",
            "cl12 \t\t 20053 \t\t 2437 \t\t 196\n",
            "cl13 \t\t 19301 \t\t 2405 \t\t 177\n",
            "cl14 \t\t 19768 \t\t 2485 \t\t 197\n",
            "cl15 \t\t 19653 \t\t 2358 \t\t 153\n",
            "cl16 \t\t 19567 \t\t 2419 \t\t 183\n",
            "cl17 \t\t 19675 \t\t 2337 \t\t 122\n",
            "cl18 \t\t 18835 \t\t 2324 \t\t 135\n",
            "cl19 \t\t 19224 \t\t 2330 \t\t 146\n",
            "cl20 \t\t 19315 \t\t 2455 \t\t 175\n",
            "cl21 \t\t 19648 \t\t 2414 \t\t 209\n",
            "cl22 \t\t 18969 \t\t 2358 \t\t 140\n",
            "cl23 \t\t 18948 \t\t 2340 \t\t 160\n",
            "cl24 \t\t 19526 \t\t 2446 \t\t 168\n",
            "cm01 \t\t 20551 \t\t 2486 \t\t 174\n",
            "cm02 \t\t 19982 \t\t 2412 \t\t 152\n",
            "cm03 \t\t 19462 \t\t 2364 \t\t 144\n",
            "cm04 \t\t 20029 \t\t 2461 \t\t 197\n",
            "cm05 \t\t 20665 \t\t 2369 \t\t 120\n",
            "cm06 \t\t 19405 \t\t 2378 \t\t 161\n",
            "cn01 \t\t 19338 \t\t 2448 \t\t 173\n",
            "cn02 \t\t 19050 \t\t 2383 \t\t 172\n",
            "cn03 \t\t 19355 \t\t 2380 \t\t 212\n",
            "cn04 \t\t 19256 \t\t 2349 \t\t 178\n",
            "cn05 \t\t 19352 \t\t 2434 \t\t 196\n",
            "cn06 \t\t 18699 \t\t 2279 \t\t 127\n",
            "cn07 \t\t 19868 \t\t 2403 \t\t 201\n",
            "cn08 \t\t 19261 \t\t 2289 \t\t 114\n",
            "cn09 \t\t 19893 \t\t 2483 \t\t 181\n",
            "cn10 \t\t 19817 \t\t 2471 \t\t 199\n",
            "cn11 \t\t 19401 \t\t 2308 \t\t 127\n",
            "cn12 \t\t 19563 \t\t 2424 \t\t 186\n",
            "cn13 \t\t 19636 \t\t 2395 \t\t 122\n",
            "cn14 \t\t 19570 \t\t 2381 \t\t 168\n",
            "cn15 \t\t 19034 \t\t 2318 \t\t 176\n",
            "cn16 \t\t 20035 \t\t 2405 \t\t 129\n",
            "cn17 \t\t 20079 \t\t 2529 \t\t 188\n",
            "cn18 \t\t 18467 \t\t 2275 \t\t 126\n",
            "cn19 \t\t 19729 \t\t 2457 \t\t 146\n",
            "cn20 \t\t 19212 \t\t 2356 \t\t 159\n",
            "cn21 \t\t 19438 \t\t 2341 \t\t 143\n",
            "cn22 \t\t 18796 \t\t 2313 \t\t 142\n",
            "cn23 \t\t 19099 \t\t 2349 \t\t 129\n",
            "cn24 \t\t 19909 \t\t 2523 \t\t 179\n",
            "cn25 \t\t 19782 \t\t 2418 \t\t 195\n",
            "cn26 \t\t 19712 \t\t 2341 \t\t 129\n",
            "cn27 \t\t 19639 \t\t 2449 \t\t 127\n",
            "cn28 \t\t 19512 \t\t 2281 \t\t 121\n",
            "cn29 \t\t 20278 \t\t 2560 \t\t 192\n",
            "cp01 \t\t 19251 \t\t 2332 \t\t 131\n",
            "cp02 \t\t 19243 \t\t 2320 \t\t 98\n",
            "cp03 \t\t 19526 \t\t 2422 \t\t 146\n",
            "cp04 \t\t 20926 \t\t 2546 \t\t 133\n",
            "cp05 \t\t 19440 \t\t 2346 \t\t 131\n",
            "cp06 \t\t 20837 \t\t 2538 \t\t 182\n",
            "cp07 \t\t 19790 \t\t 2385 \t\t 144\n",
            "cp08 \t\t 18646 \t\t 2317 \t\t 175\n",
            "cp09 \t\t 17718 \t\t 2187 \t\t 69\n",
            "cp10 \t\t 19461 \t\t 2386 \t\t 123\n",
            "cp11 \t\t 18932 \t\t 2346 \t\t 119\n",
            "cp12 \t\t 19472 \t\t 2463 \t\t 170\n",
            "cp13 \t\t 19205 \t\t 2338 \t\t 112\n",
            "cp14 \t\t 19881 \t\t 2501 \t\t 231\n",
            "cp15 \t\t 20108 \t\t 2524 \t\t 179\n",
            "cp16 \t\t 20235 \t\t 2525 \t\t 207\n",
            "cp17 \t\t 19052 \t\t 2288 \t\t 116\n",
            "cp18 \t\t 19615 \t\t 2469 \t\t 185\n",
            "cp19 \t\t 19464 \t\t 2449 \t\t 174\n",
            "cp20 \t\t 19198 \t\t 2428 \t\t 182\n",
            "cp21 \t\t 20810 \t\t 2520 \t\t 120\n",
            "cp22 \t\t 19672 \t\t 2441 \t\t 176\n",
            "cp23 \t\t 20454 \t\t 2546 \t\t 172\n",
            "cp24 \t\t 20073 \t\t 2524 \t\t 235\n",
            "cp25 \t\t 19119 \t\t 2310 \t\t 99\n",
            "cp26 \t\t 18684 \t\t 2356 \t\t 109\n",
            "cp27 \t\t 19850 \t\t 2459 \t\t 207\n",
            "cp28 \t\t 19256 \t\t 2339 \t\t 156\n",
            "cp29 \t\t 20610 \t\t 2417 \t\t 150\n",
            "cr01 \t\t 19520 \t\t 2331 \t\t 113\n",
            "cr02 \t\t 20024 \t\t 2392 \t\t 113\n",
            "cr03 \t\t 21655 \t\t 2587 \t\t 92\n",
            "cr04 \t\t 18564 \t\t 2256 \t\t 118\n",
            "cr05 \t\t 20456 \t\t 2464 \t\t 141\n",
            "cr06 \t\t 20097 \t\t 2506 \t\t 123\n",
            "cr07 \t\t 19973 \t\t 2456 \t\t 184\n",
            "cr08 \t\t 20608 \t\t 2371 \t\t 70\n",
            "cr09 \t\t 19645 \t\t 2332 \t\t 99\n"
          ]
        }
      ]
    },
    {
      "cell_type": "markdown",
      "source": [
        "2b Study of Tokenization"
      ],
      "metadata": {
        "id": "YClpcYK5YXIp"
      }
    },
    {
      "cell_type": "code",
      "source": [
        "from nltk import tokenize"
      ],
      "metadata": {
        "id": "UWBZP_2V_ESD"
      },
      "execution_count": null,
      "outputs": []
    },
    {
      "cell_type": "code",
      "source": [
        "nltk.download('punkt')"
      ],
      "metadata": {
        "colab": {
          "base_uri": "https://localhost:8080/"
        },
        "id": "aoU3NAFlYLCY",
        "outputId": "6734cfc4-5635-4244-f762-b635a75c2d85"
      },
      "execution_count": null,
      "outputs": [
        {
          "output_type": "stream",
          "name": "stdout",
          "text": [
            "[nltk_data] Downloading package punkt to /root/nltk_data...\n",
            "[nltk_data]   Unzipping tokenizers/punkt.zip.\n"
          ]
        },
        {
          "output_type": "execute_result",
          "data": {
            "text/plain": [
              "True"
            ]
          },
          "metadata": {},
          "execution_count": 14
        }
      ]
    },
    {
      "cell_type": "code",
      "source": [
        "Para='NLP enables computers to understand natural language as humans do. Whether the language is spoken or written, natural language processing uses artificial intelligence to take real-world input, process it, and make sense of it in a way a computer can understand. Just as humans have different sensors -- such as ears to hear and eyes to see -- computers have programs to read and microphones to collect audio. And just as humans have a brain to process that input, computers have a program to process their respective inputs. At some point in processing, the input is converted to code that the computer can understand.'"
      ],
      "metadata": {
        "id": "QbKZXtVE_JeF"
      },
      "execution_count": null,
      "outputs": []
    },
    {
      "cell_type": "code",
      "source": [
        "sent=tokenize.sent_tokenize(Para)\n",
        "sent"
      ],
      "metadata": {
        "colab": {
          "base_uri": "https://localhost:8080/"
        },
        "id": "xVXUiiPQ_3ql",
        "outputId": "f2509275-7b81-4434-b715-421ee246ed29"
      },
      "execution_count": null,
      "outputs": [
        {
          "output_type": "execute_result",
          "data": {
            "text/plain": [
              "['NLP enables computers to understand natural language as humans do.',\n",
              " 'Whether the language is spoken or written, natural language processing uses artificial intelligence to take real-world input, process it, and make sense of it in a way a computer can understand.',\n",
              " 'Just as humans have different sensors -- such as ears to hear and eyes to see -- computers have programs to read and microphones to collect audio.',\n",
              " 'And just as humans have a brain to process that input, computers have a program to process their respective inputs.',\n",
              " 'At some point in processing, the input is converted to code that the computer can understand.']"
            ]
          },
          "metadata": {},
          "execution_count": 16
        }
      ]
    },
    {
      "cell_type": "code",
      "source": [
        "nltk.download('words')"
      ],
      "metadata": {
        "colab": {
          "base_uri": "https://localhost:8080/"
        },
        "id": "M1s80rF2AVio",
        "outputId": "b5cfa5a7-04c7-4cdb-93ef-5f76cfa85f86"
      },
      "execution_count": null,
      "outputs": [
        {
          "output_type": "stream",
          "name": "stdout",
          "text": [
            "[nltk_data] Downloading package words to /root/nltk_data...\n",
            "[nltk_data]   Unzipping corpora/words.zip.\n"
          ]
        },
        {
          "output_type": "execute_result",
          "data": {
            "text/plain": [
              "True"
            ]
          },
          "metadata": {},
          "execution_count": 17
        }
      ]
    },
    {
      "cell_type": "code",
      "source": [
        "for index in range(len(sent)):\n",
        "    words=tokenize.word_tokenize(sent[index])\n",
        "    print(words)"
      ],
      "metadata": {
        "colab": {
          "base_uri": "https://localhost:8080/"
        },
        "id": "sek2IEc6A7ud",
        "outputId": "63fd265c-a5f7-4d5e-dc40-08783f935a82"
      },
      "execution_count": null,
      "outputs": [
        {
          "output_type": "stream",
          "name": "stdout",
          "text": [
            "['NLP', 'enables', 'computers', 'to', 'understand', 'natural', 'language', 'as', 'humans', 'do', '.']\n",
            "['Whether', 'the', 'language', 'is', 'spoken', 'or', 'written', ',', 'natural', 'language', 'processing', 'uses', 'artificial', 'intelligence', 'to', 'take', 'real-world', 'input', ',', 'process', 'it', ',', 'and', 'make', 'sense', 'of', 'it', 'in', 'a', 'way', 'a', 'computer', 'can', 'understand', '.']\n",
            "['Just', 'as', 'humans', 'have', 'different', 'sensors', '--', 'such', 'as', 'ears', 'to', 'hear', 'and', 'eyes', 'to', 'see', '--', 'computers', 'have', 'programs', 'to', 'read', 'and', 'microphones', 'to', 'collect', 'audio', '.']\n",
            "['And', 'just', 'as', 'humans', 'have', 'a', 'brain', 'to', 'process', 'that', 'input', ',', 'computers', 'have', 'a', 'program', 'to', 'process', 'their', 'respective', 'inputs', '.']\n",
            "['At', 'some', 'point', 'in', 'processing', ',', 'the', 'input', 'is', 'converted', 'to', 'code', 'that', 'the', 'computer', 'can', 'understand', '.']\n"
          ]
        }
      ]
    },
    {
      "cell_type": "markdown",
      "source": [
        "Practical 2c WAP to find the most frequent noun tags"
      ],
      "metadata": {
        "id": "MlazTN2tYlpt"
      }
    },
    {
      "cell_type": "code",
      "source": [
        "from collections import defaultdict"
      ],
      "metadata": {
        "id": "83rsv4G1CG8z"
      },
      "execution_count": null,
      "outputs": []
    },
    {
      "cell_type": "code",
      "source": [
        "text=nltk.word_tokenize(\"Nick likes to play football. Nick does not like to play cricket.\")\n",
        "text"
      ],
      "metadata": {
        "colab": {
          "base_uri": "https://localhost:8080/"
        },
        "id": "drlartJ5CWTI",
        "outputId": "3fe7d92f-8d0a-4d80-e0fb-12aff57af35d"
      },
      "execution_count": null,
      "outputs": [
        {
          "output_type": "execute_result",
          "data": {
            "text/plain": [
              "['Nick',\n",
              " 'likes',\n",
              " 'to',\n",
              " 'play',\n",
              " 'football',\n",
              " '.',\n",
              " 'Nick',\n",
              " 'does',\n",
              " 'not',\n",
              " 'like',\n",
              " 'to',\n",
              " 'play',\n",
              " 'cricket',\n",
              " '.']"
            ]
          },
          "metadata": {},
          "execution_count": 20
        }
      ]
    },
    {
      "cell_type": "code",
      "source": [
        "nltk.download('averaged_perceptron_tagger')"
      ],
      "metadata": {
        "colab": {
          "base_uri": "https://localhost:8080/"
        },
        "id": "B9Px-acTDC-M",
        "outputId": "0f8aa0f3-5712-4882-b5e8-6a7a0f891ab3"
      },
      "execution_count": null,
      "outputs": [
        {
          "output_type": "stream",
          "name": "stdout",
          "text": [
            "[nltk_data] Downloading package averaged_perceptron_tagger to\n",
            "[nltk_data]     /root/nltk_data...\n",
            "[nltk_data]   Unzipping taggers/averaged_perceptron_tagger.zip.\n"
          ]
        },
        {
          "output_type": "execute_result",
          "data": {
            "text/plain": [
              "True"
            ]
          },
          "metadata": {},
          "execution_count": 21
        }
      ]
    },
    {
      "cell_type": "code",
      "source": [
        "tag=nltk.pos_tag(text)\n",
        "tag"
      ],
      "metadata": {
        "colab": {
          "base_uri": "https://localhost:8080/"
        },
        "id": "-LJ-MaFlCwIH",
        "outputId": "f3bf0cd3-f944-42d2-cc54-6b4b0c6d8ab2"
      },
      "execution_count": null,
      "outputs": [
        {
          "output_type": "execute_result",
          "data": {
            "text/plain": [
              "[('Nick', 'NNP'),\n",
              " ('likes', 'VBZ'),\n",
              " ('to', 'TO'),\n",
              " ('play', 'VB'),\n",
              " ('football', 'NN'),\n",
              " ('.', '.'),\n",
              " ('Nick', 'NNP'),\n",
              " ('does', 'VBZ'),\n",
              " ('not', 'RB'),\n",
              " ('like', 'VB'),\n",
              " ('to', 'TO'),\n",
              " ('play', 'VB'),\n",
              " ('cricket', 'NN'),\n",
              " ('.', '.')]"
            ]
          },
          "metadata": {},
          "execution_count": 22
        }
      ]
    },
    {
      "cell_type": "code",
      "source": [
        "addNounWords=[]\n",
        "count=0\n",
        "for words in tag:\n",
        "  val=tag[count][1]\n",
        "  if(val=='NN' or val=='NNS' or val=='NNPS' or val=='NNP'):\n",
        "    addNounWords.append(tag[count][0])\n",
        "  count+=1"
      ],
      "metadata": {
        "id": "-wGD_0KkDJJg"
      },
      "execution_count": null,
      "outputs": []
    },
    {
      "cell_type": "code",
      "source": [
        "print(count)"
      ],
      "metadata": {
        "colab": {
          "base_uri": "https://localhost:8080/"
        },
        "id": "L5RKevvyE79z",
        "outputId": "9889acf4-5b4c-4ee6-8aed-accf0e49a12c"
      },
      "execution_count": null,
      "outputs": [
        {
          "output_type": "stream",
          "name": "stdout",
          "text": [
            "14\n"
          ]
        }
      ]
    },
    {
      "cell_type": "code",
      "source": [
        "print(addNounWords)"
      ],
      "metadata": {
        "colab": {
          "base_uri": "https://localhost:8080/"
        },
        "id": "T-KksCq9FEOq",
        "outputId": "1d990041-c570-436b-f9b0-c88afc643cb8"
      },
      "execution_count": null,
      "outputs": [
        {
          "output_type": "stream",
          "name": "stdout",
          "text": [
            "['Nick', 'football', 'Nick', 'cricket']\n"
          ]
        }
      ]
    },
    {
      "cell_type": "code",
      "source": [
        "temp=defaultdict(int)"
      ],
      "metadata": {
        "id": "dVSxkTjmFQzE"
      },
      "execution_count": null,
      "outputs": []
    },
    {
      "cell_type": "code",
      "source": [
        "for sub in addNounWords:\n",
        "    for wrd in sub.split():\n",
        "        temp[wrd]+=1"
      ],
      "metadata": {
        "id": "ZnB8lUiIHbSE"
      },
      "execution_count": null,
      "outputs": []
    },
    {
      "cell_type": "code",
      "source": [
        "res=max(temp, key=temp.get)"
      ],
      "metadata": {
        "id": "9BC7E-8EH8NU"
      },
      "execution_count": null,
      "outputs": []
    },
    {
      "cell_type": "code",
      "source": [
        "print(temp)"
      ],
      "metadata": {
        "colab": {
          "base_uri": "https://localhost:8080/"
        },
        "id": "aSniM1FXICxU",
        "outputId": "c6c32b1c-08c4-4a54-8c55-c6c98a4be472"
      },
      "execution_count": null,
      "outputs": [
        {
          "output_type": "stream",
          "name": "stdout",
          "text": [
            "defaultdict(<class 'int'>, {'Nick': 2, 'football': 1, 'cricket': 1})\n"
          ]
        }
      ]
    },
    {
      "cell_type": "code",
      "source": [
        "print (str(res))"
      ],
      "metadata": {
        "colab": {
          "base_uri": "https://localhost:8080/"
        },
        "id": "125zamtNIAPr",
        "outputId": "3b9a4e4c-08f6-40ba-8697-27e80ebfac73"
      },
      "execution_count": null,
      "outputs": [
        {
          "output_type": "stream",
          "name": "stdout",
          "text": [
            "Nick\n"
          ]
        }
      ]
    },
    {
      "cell_type": "markdown",
      "source": [
        "Practical 2d Map words to properties using python dictionaries"
      ],
      "metadata": {
        "id": "9sLVrqz5ZFdj"
      }
    },
    {
      "cell_type": "code",
      "source": [
        "thisdict={\n",
        "     \"brand\":\"ford\",\n",
        "     \"Model\":\"mustang\",\n",
        "     \"Year\":\"1964\"\n",
        "}"
      ],
      "metadata": {
        "id": "g5XtaA4TIduo"
      },
      "execution_count": null,
      "outputs": []
    },
    {
      "cell_type": "code",
      "source": [
        "print(thisdict)"
      ],
      "metadata": {
        "colab": {
          "base_uri": "https://localhost:8080/"
        },
        "id": "--NCQ9V6I8Vk",
        "outputId": "7a631e3d-170e-4d71-f25c-2c926df461a0"
      },
      "execution_count": null,
      "outputs": [
        {
          "output_type": "stream",
          "name": "stdout",
          "text": [
            "{'brand': 'ford', 'Model': 'mustang', 'Year': '1964'}\n"
          ]
        }
      ]
    },
    {
      "cell_type": "code",
      "source": [
        "print(thisdict[\"brand\"])"
      ],
      "metadata": {
        "colab": {
          "base_uri": "https://localhost:8080/"
        },
        "id": "RqyTSr0KI-_K",
        "outputId": "1b50514f-4300-4f9a-9f62-8fd4ec73b20d"
      },
      "execution_count": null,
      "outputs": [
        {
          "output_type": "stream",
          "name": "stdout",
          "text": [
            "ford\n"
          ]
        }
      ]
    },
    {
      "cell_type": "code",
      "source": [
        "print(thisdict[\"Year\"])"
      ],
      "metadata": {
        "colab": {
          "base_uri": "https://localhost:8080/"
        },
        "id": "a2rzY_kXZSjx",
        "outputId": "b944844b-f5c0-4abf-920e-a9cacf2318e8"
      },
      "execution_count": null,
      "outputs": [
        {
          "output_type": "stream",
          "name": "stdout",
          "text": [
            "1964\n"
          ]
        }
      ]
    },
    {
      "cell_type": "code",
      "source": [
        "print(len(thisdict))"
      ],
      "metadata": {
        "colab": {
          "base_uri": "https://localhost:8080/"
        },
        "id": "4FaLHjLYJP9l",
        "outputId": "294e0470-9581-471a-b094-92bf6a94f61d"
      },
      "execution_count": null,
      "outputs": [
        {
          "output_type": "stream",
          "name": "stdout",
          "text": [
            "3\n"
          ]
        }
      ]
    },
    {
      "cell_type": "code",
      "source": [
        "print(type(thisdict))"
      ],
      "metadata": {
        "colab": {
          "base_uri": "https://localhost:8080/"
        },
        "id": "U2PY7Eh3JGMd",
        "outputId": "5b2411c9-d067-410c-9b9e-2751fe48a7ce"
      },
      "execution_count": null,
      "outputs": [
        {
          "output_type": "stream",
          "name": "stdout",
          "text": [
            "<class 'dict'>\n"
          ]
        }
      ]
    },
    {
      "cell_type": "markdown",
      "source": [
        "Practical 2e Default Tagger"
      ],
      "metadata": {
        "id": "_dNgZ7qrZaOr"
      }
    },
    {
      "cell_type": "code",
      "source": [
        "from nltk.tag import DefaultTagger"
      ],
      "metadata": {
        "id": "mlLLCrklJmmX"
      },
      "execution_count": null,
      "outputs": []
    },
    {
      "cell_type": "code",
      "source": [
        "exptagger=DefaultTagger('NN')"
      ],
      "metadata": {
        "id": "V8tH_NpsJyju"
      },
      "execution_count": null,
      "outputs": []
    },
    {
      "cell_type": "code",
      "source": [
        "print(exptagger.tag_sents([['hi',','],['How', 'are', 'you', '?']]))"
      ],
      "metadata": {
        "colab": {
          "base_uri": "https://localhost:8080/"
        },
        "id": "aDbSN70VJ8RP",
        "outputId": "fbd55155-ca7c-44b1-ef43-ef0a07121ad1"
      },
      "execution_count": null,
      "outputs": [
        {
          "output_type": "stream",
          "name": "stdout",
          "text": [
            "[[('hi', 'NN'), (',', 'NN')], [('How', 'NN'), ('are', 'NN'), ('you', 'NN'), ('?', 'NN')]]\n"
          ]
        }
      ]
    },
    {
      "cell_type": "markdown",
      "source": [
        "Practical 2f Regular Expression Tagger"
      ],
      "metadata": {
        "id": "jUFWydeAZrd7"
      }
    },
    {
      "cell_type": "code",
      "source": [
        "from nltk.tag import RegexpTagger"
      ],
      "metadata": {
        "id": "cQJmhBYDKpNi"
      },
      "execution_count": null,
      "outputs": []
    },
    {
      "cell_type": "code",
      "source": [
        "test_sent=brown.sents(categories='news')[0]\n",
        "print(test_sent)"
      ],
      "metadata": {
        "colab": {
          "base_uri": "https://localhost:8080/"
        },
        "id": "hx1SL82NLTwb",
        "outputId": "a1032b07-1099-4556-8b54-424124edb147"
      },
      "execution_count": null,
      "outputs": [
        {
          "output_type": "stream",
          "name": "stdout",
          "text": [
            "['The', 'Fulton', 'County', 'Grand', 'Jury', 'said', 'Friday', 'an', 'investigation', 'of', \"Atlanta's\", 'recent', 'primary', 'election', 'produced', '``', 'no', 'evidence', \"''\", 'that', 'any', 'irregularities', 'took', 'place', '.']\n"
          ]
        }
      ]
    },
    {
      "cell_type": "code",
      "source": [
        "regexptagger=RegexpTagger(\n",
        "    [(r'.*able$','JJ'), #adj\n",
        "     (r'.*ness$','NN'),#noun\n",
        "     (r'.*ly$','RB'),#adverb\n",
        "     (r'.*ed$','VBD'),#verb pasttense\n",
        "     (r'.*tion$','NN'), #noun\n",
        "     (r'.*s$','NNS'), #Plural\n",
        "     (r'.*(The|the|A|a|An|an)$','AT'), #article\n",
        "     (r'.*','NN')\n",
        "    ]\n",
        ")"
      ],
      "metadata": {
        "id": "UlSwofXWLe-1"
      },
      "execution_count": null,
      "outputs": []
    },
    {
      "cell_type": "code",
      "source": [
        "print(regexptagger)"
      ],
      "metadata": {
        "colab": {
          "base_uri": "https://localhost:8080/"
        },
        "id": "k1pXsrlUNagd",
        "outputId": "46f58c0e-df2d-40a7-c495-3b9037856a7f"
      },
      "execution_count": null,
      "outputs": [
        {
          "output_type": "stream",
          "name": "stdout",
          "text": [
            "<Regexp Tagger: size=8>\n"
          ]
        }
      ]
    },
    {
      "cell_type": "code",
      "source": [
        "print(regexptagger.tag(test_sent))"
      ],
      "metadata": {
        "colab": {
          "base_uri": "https://localhost:8080/"
        },
        "id": "pVOgWDvaNgvQ",
        "outputId": "b7676f50-e188-479c-c651-f8ed444c6a23"
      },
      "execution_count": null,
      "outputs": [
        {
          "output_type": "stream",
          "name": "stdout",
          "text": [
            "[('The', 'AT'), ('Fulton', 'NN'), ('County', 'NN'), ('Grand', 'NN'), ('Jury', 'NN'), ('said', 'NN'), ('Friday', 'NN'), ('an', 'AT'), ('investigation', 'NN'), ('of', 'NN'), (\"Atlanta's\", 'NNS'), ('recent', 'NN'), ('primary', 'NN'), ('election', 'NN'), ('produced', 'VBD'), ('``', 'NN'), ('no', 'NN'), ('evidence', 'NN'), (\"''\", 'NN'), ('that', 'NN'), ('any', 'NN'), ('irregularities', 'NNS'), ('took', 'NN'), ('place', 'NN'), ('.', 'NN')]\n"
          ]
        }
      ]
    }
  ]
}